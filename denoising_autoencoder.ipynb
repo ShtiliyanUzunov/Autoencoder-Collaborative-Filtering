{
 "cells": [
  {
   "cell_type": "markdown",
   "id": "stuffed-metadata",
   "metadata": {},
   "source": [
    "# Dataset"
   ]
  },
  {
   "cell_type": "code",
   "execution_count": 9,
   "id": "significant-stevens",
   "metadata": {},
   "outputs": [],
   "source": [
    "# Load the dataset"
   ]
  },
  {
   "cell_type": "markdown",
   "id": "processed-style",
   "metadata": {},
   "source": [
    "# Network"
   ]
  },
  {
   "cell_type": "code",
   "execution_count": 12,
   "id": "first-mozambique",
   "metadata": {},
   "outputs": [],
   "source": [
    "class Denoising_Model(nn.Module):\n",
    "    def __init__(self):\n",
    "        super(denoising_model,self).__init__()\n",
    "        self.encoder=nn.Sequential(\n",
    "                      nn.Linear(inputSize, 770),  # There are 6040 users in movieLens-1M\n",
    "                      nn.Tanh()\n",
    "                      )\n",
    "\n",
    "        self.decoder=nn.Sequential(\n",
    "                      nn.Linear(770, inputSize),\n",
    "                      nn.Tanh()\n",
    "                      )\n",
    "\n",
    "\n",
    "    def forward(self,x):\n",
    "        x=self.encoder(x)\n",
    "        x=self.decoder(x)\n",
    "        return x"
   ]
  },
  {
   "cell_type": "code",
   "execution_count": 19,
   "id": "front-machinery",
   "metadata": {},
   "outputs": [],
   "source": [
    "from torch.optim import Adam\n",
    "from torch.utils.data import DataLoader\n",
    "from tqdm import tqdm\n",
    "\n",
    "def train():\n",
    "    if torch.cuda.is_available()==True:\n",
    "        device=\"cuda:0\"\n",
    "    else:\n",
    "        device =\"cpu\"\n",
    "\n",
    "    model=Denoising_Model().to(device)\n",
    "    criterion=nn.MSELoss()\n",
    "    optimizer=optim.SGD(model.parameters(),lr=0.07,weight_decay=0.05)\n",
    "\n",
    "\n",
    "    epochs=20\n",
    "    l=len(train_loader)\n",
    "    epoch_loss=0\n",
    "    running_loss=0\n",
    "    for epoch in range(epochs):\n",
    "        for dirty,clean,label in tqdm((train_loader)):\n",
    "            dirty=dirty.view(dirty.size(0),-1).type(torch.FloatTensor)\n",
    "            clean=clean.view(clean.size(0),-1).type(torch.FloatTensor)\n",
    "            dirty,clean=dirty.to(device),clean.to(device)\n",
    "            # Forward Pass\n",
    "            output=model(dirty)\n",
    "            loss=criterion(output,clean)\n",
    "            #Backward Pass---------------------\n",
    "            optimizer.zero_grad()\n",
    "            loss.backward()\n",
    "            optimizer.step()\n",
    "\n",
    "            running_loss+=loss.item()\n",
    "            epoch_loss+=loss.item()\n",
    "        print('Epoch {} Loss : {}'.format((epoch+1),epoch_loss))"
   ]
  },
  {
   "cell_type": "code",
   "execution_count": 20,
   "id": "sized-hungary",
   "metadata": {},
   "outputs": [],
   "source": [
    "from sklearn.metrics import mean_squared_error\n",
    "from math import sqrt\n",
    "\n",
    "\n",
    "def test():\n",
    "    criterion=nn.MSECriterion()\n",
    "    noRatings = 0\n",
    "    input, target, minibatch = {}, {}, {}\n",
    "    # TODO: Replace 'out'/'inp' \n",
    "    y_true = [test_dataset[i]['out'].item() for i in range(len(test_dataset))]\n",
    "    y_pred = []\n",
    "\n",
    "    trial_loader = DataLoader(dataset = test_dataset, batch_size = BATCH_SIZE, shuffle = False)\n",
    "    for bidx, batch in enumerate(test_loader):\n",
    "            x_train = batch['inp']\n",
    "            y_pred.append(net(x_train))\n",
    "\n",
    "    y_pred = [x.item() for i in range(len(y_pred)) for x in y_pred[i] ]\n",
    "\n",
    "    rmse = sqrt(mean_squared_error(y_true, y_pred))\n",
    "    print(\"RMSE: \", rmse)\n"
   ]
  },
  {
   "cell_type": "code",
   "execution_count": null,
   "id": "accompanied-kuwait",
   "metadata": {},
   "outputs": [],
   "source": []
  }
 ],
 "metadata": {
  "kernelspec": {
   "display_name": "Python 3",
   "language": "python",
   "name": "python3"
  },
  "language_info": {
   "codemirror_mode": {
    "name": "ipython",
    "version": 3
   },
   "file_extension": ".py",
   "mimetype": "text/x-python",
   "name": "python",
   "nbconvert_exporter": "python",
   "pygments_lexer": "ipython3",
   "version": "3.8.5"
  }
 },
 "nbformat": 4,
 "nbformat_minor": 5
}
