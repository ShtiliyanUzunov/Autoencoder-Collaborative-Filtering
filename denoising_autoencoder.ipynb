{
 "cells": [
  {
   "cell_type": "markdown",
   "id": "ba081119",
   "metadata": {},
   "source": [
    "# Dependencies"
   ]
  },
  {
   "cell_type": "code",
   "execution_count": 1,
   "id": "significant-stevens",
   "metadata": {},
   "outputs": [],
   "source": [
    "import torch\n",
    "import pandas as pd\n",
    "import numpy as np\n",
    "import random\n",
    "from sklearn.model_selection import train_test_split"
   ]
  },
  {
   "cell_type": "markdown",
   "id": "stuffed-metadata",
   "metadata": {},
   "source": [
    "# Dataset"
   ]
  },
  {
   "cell_type": "code",
   "execution_count": 4,
   "id": "5ce48042",
   "metadata": {},
   "outputs": [],
   "source": [
    "movies = pd.read_csv('ml-1m/movies.dat',sep='::',header=None,names=[\"MovieID\", \"Title\", \"Genres\"],engine='python')\n",
    "ratings = pd.read_csv('ml-1m/ratings.dat',sep='::',header=None,names=[\"UserID\", \"MovieID\", \"Rating\", \"Timestamp\"],engine='python')\n",
    "users = pd.read_csv('ml-1m/users.dat',sep='::',header=None,names=[\"UserID\", \"Gender\", \"Age\", \"Occupation\", \"Zip-code\"],engine='python')"
   ]
  },
  {
   "cell_type": "code",
   "execution_count": 5,
   "id": "371850af",
   "metadata": {},
   "outputs": [
    {
     "data": {
      "text/html": [
       "<div>\n",
       "<style scoped>\n",
       "    .dataframe tbody tr th:only-of-type {\n",
       "        vertical-align: middle;\n",
       "    }\n",
       "\n",
       "    .dataframe tbody tr th {\n",
       "        vertical-align: top;\n",
       "    }\n",
       "\n",
       "    .dataframe thead th {\n",
       "        text-align: right;\n",
       "    }\n",
       "</style>\n",
       "<table border=\"1\" class=\"dataframe\">\n",
       "  <thead>\n",
       "    <tr style=\"text-align: right;\">\n",
       "      <th></th>\n",
       "      <th>MovieID</th>\n",
       "      <th>Title</th>\n",
       "      <th>Genres</th>\n",
       "    </tr>\n",
       "  </thead>\n",
       "  <tbody>\n",
       "    <tr>\n",
       "      <th>0</th>\n",
       "      <td>1</td>\n",
       "      <td>Toy Story (1995)</td>\n",
       "      <td>Animation|Children's|Comedy</td>\n",
       "    </tr>\n",
       "    <tr>\n",
       "      <th>1</th>\n",
       "      <td>2</td>\n",
       "      <td>Jumanji (1995)</td>\n",
       "      <td>Adventure|Children's|Fantasy</td>\n",
       "    </tr>\n",
       "    <tr>\n",
       "      <th>2</th>\n",
       "      <td>3</td>\n",
       "      <td>Grumpier Old Men (1995)</td>\n",
       "      <td>Comedy|Romance</td>\n",
       "    </tr>\n",
       "    <tr>\n",
       "      <th>3</th>\n",
       "      <td>4</td>\n",
       "      <td>Waiting to Exhale (1995)</td>\n",
       "      <td>Comedy|Drama</td>\n",
       "    </tr>\n",
       "    <tr>\n",
       "      <th>4</th>\n",
       "      <td>5</td>\n",
       "      <td>Father of the Bride Part II (1995)</td>\n",
       "      <td>Comedy</td>\n",
       "    </tr>\n",
       "  </tbody>\n",
       "</table>\n",
       "</div>"
      ],
      "text/plain": [
       "   MovieID                               Title                        Genres\n",
       "0        1                    Toy Story (1995)   Animation|Children's|Comedy\n",
       "1        2                      Jumanji (1995)  Adventure|Children's|Fantasy\n",
       "2        3             Grumpier Old Men (1995)                Comedy|Romance\n",
       "3        4            Waiting to Exhale (1995)                  Comedy|Drama\n",
       "4        5  Father of the Bride Part II (1995)                        Comedy"
      ]
     },
     "execution_count": 5,
     "metadata": {},
     "output_type": "execute_result"
    }
   ],
   "source": [
    "movies.head()"
   ]
  },
  {
   "cell_type": "code",
   "execution_count": 6,
   "id": "e4df1ae6",
   "metadata": {},
   "outputs": [
    {
     "data": {
      "text/html": [
       "<div>\n",
       "<style scoped>\n",
       "    .dataframe tbody tr th:only-of-type {\n",
       "        vertical-align: middle;\n",
       "    }\n",
       "\n",
       "    .dataframe tbody tr th {\n",
       "        vertical-align: top;\n",
       "    }\n",
       "\n",
       "    .dataframe thead th {\n",
       "        text-align: right;\n",
       "    }\n",
       "</style>\n",
       "<table border=\"1\" class=\"dataframe\">\n",
       "  <thead>\n",
       "    <tr style=\"text-align: right;\">\n",
       "      <th></th>\n",
       "      <th>UserID</th>\n",
       "      <th>Gender</th>\n",
       "      <th>Age</th>\n",
       "      <th>Occupation</th>\n",
       "      <th>Zip-code</th>\n",
       "    </tr>\n",
       "  </thead>\n",
       "  <tbody>\n",
       "    <tr>\n",
       "      <th>0</th>\n",
       "      <td>1</td>\n",
       "      <td>F</td>\n",
       "      <td>1</td>\n",
       "      <td>10</td>\n",
       "      <td>48067</td>\n",
       "    </tr>\n",
       "    <tr>\n",
       "      <th>1</th>\n",
       "      <td>2</td>\n",
       "      <td>M</td>\n",
       "      <td>56</td>\n",
       "      <td>16</td>\n",
       "      <td>70072</td>\n",
       "    </tr>\n",
       "    <tr>\n",
       "      <th>2</th>\n",
       "      <td>3</td>\n",
       "      <td>M</td>\n",
       "      <td>25</td>\n",
       "      <td>15</td>\n",
       "      <td>55117</td>\n",
       "    </tr>\n",
       "    <tr>\n",
       "      <th>3</th>\n",
       "      <td>4</td>\n",
       "      <td>M</td>\n",
       "      <td>45</td>\n",
       "      <td>7</td>\n",
       "      <td>02460</td>\n",
       "    </tr>\n",
       "    <tr>\n",
       "      <th>4</th>\n",
       "      <td>5</td>\n",
       "      <td>M</td>\n",
       "      <td>25</td>\n",
       "      <td>20</td>\n",
       "      <td>55455</td>\n",
       "    </tr>\n",
       "  </tbody>\n",
       "</table>\n",
       "</div>"
      ],
      "text/plain": [
       "   UserID Gender  Age  Occupation Zip-code\n",
       "0       1      F    1          10    48067\n",
       "1       2      M   56          16    70072\n",
       "2       3      M   25          15    55117\n",
       "3       4      M   45           7    02460\n",
       "4       5      M   25          20    55455"
      ]
     },
     "execution_count": 6,
     "metadata": {},
     "output_type": "execute_result"
    }
   ],
   "source": [
    "users.head()"
   ]
  },
  {
   "cell_type": "code",
   "execution_count": 7,
   "id": "a785e1f9",
   "metadata": {},
   "outputs": [
    {
     "data": {
      "text/html": [
       "<div>\n",
       "<style scoped>\n",
       "    .dataframe tbody tr th:only-of-type {\n",
       "        vertical-align: middle;\n",
       "    }\n",
       "\n",
       "    .dataframe tbody tr th {\n",
       "        vertical-align: top;\n",
       "    }\n",
       "\n",
       "    .dataframe thead th {\n",
       "        text-align: right;\n",
       "    }\n",
       "</style>\n",
       "<table border=\"1\" class=\"dataframe\">\n",
       "  <thead>\n",
       "    <tr style=\"text-align: right;\">\n",
       "      <th></th>\n",
       "      <th>UserID</th>\n",
       "      <th>MovieID</th>\n",
       "      <th>Rating</th>\n",
       "      <th>Timestamp</th>\n",
       "    </tr>\n",
       "  </thead>\n",
       "  <tbody>\n",
       "    <tr>\n",
       "      <th>0</th>\n",
       "      <td>1</td>\n",
       "      <td>1193</td>\n",
       "      <td>5</td>\n",
       "      <td>978300760</td>\n",
       "    </tr>\n",
       "    <tr>\n",
       "      <th>1</th>\n",
       "      <td>1</td>\n",
       "      <td>661</td>\n",
       "      <td>3</td>\n",
       "      <td>978302109</td>\n",
       "    </tr>\n",
       "    <tr>\n",
       "      <th>2</th>\n",
       "      <td>1</td>\n",
       "      <td>914</td>\n",
       "      <td>3</td>\n",
       "      <td>978301968</td>\n",
       "    </tr>\n",
       "    <tr>\n",
       "      <th>3</th>\n",
       "      <td>1</td>\n",
       "      <td>3408</td>\n",
       "      <td>4</td>\n",
       "      <td>978300275</td>\n",
       "    </tr>\n",
       "    <tr>\n",
       "      <th>4</th>\n",
       "      <td>1</td>\n",
       "      <td>2355</td>\n",
       "      <td>5</td>\n",
       "      <td>978824291</td>\n",
       "    </tr>\n",
       "  </tbody>\n",
       "</table>\n",
       "</div>"
      ],
      "text/plain": [
       "   UserID  MovieID  Rating  Timestamp\n",
       "0       1     1193       5  978300760\n",
       "1       1      661       3  978302109\n",
       "2       1      914       3  978301968\n",
       "3       1     3408       4  978300275\n",
       "4       1     2355       5  978824291"
      ]
     },
     "execution_count": 7,
     "metadata": {},
     "output_type": "execute_result"
    }
   ],
   "source": [
    "ratings.head()"
   ]
  },
  {
   "cell_type": "code",
   "execution_count": 8,
   "id": "cbefd7d7",
   "metadata": {},
   "outputs": [
    {
     "data": {
      "text/plain": [
       "((3883, 3), (1000209, 4), (6040, 5))"
      ]
     },
     "execution_count": 8,
     "metadata": {},
     "output_type": "execute_result"
    }
   ],
   "source": [
    "movies.shape, ratings.shape, users.shape"
   ]
  },
  {
   "cell_type": "code",
   "execution_count": 9,
   "id": "c1259e50",
   "metadata": {},
   "outputs": [
    {
     "data": {
      "text/html": [
       "<div>\n",
       "<style scoped>\n",
       "    .dataframe tbody tr th:only-of-type {\n",
       "        vertical-align: middle;\n",
       "    }\n",
       "\n",
       "    .dataframe tbody tr th {\n",
       "        vertical-align: top;\n",
       "    }\n",
       "\n",
       "    .dataframe thead th {\n",
       "        text-align: right;\n",
       "    }\n",
       "</style>\n",
       "<table border=\"1\" class=\"dataframe\">\n",
       "  <thead>\n",
       "    <tr style=\"text-align: right;\">\n",
       "      <th></th>\n",
       "      <th>MovieID</th>\n",
       "    </tr>\n",
       "    <tr>\n",
       "      <th>UserID</th>\n",
       "      <th></th>\n",
       "    </tr>\n",
       "  </thead>\n",
       "  <tbody>\n",
       "    <tr>\n",
       "      <th>947</th>\n",
       "      <td>20</td>\n",
       "    </tr>\n",
       "    <tr>\n",
       "      <th>4068</th>\n",
       "      <td>20</td>\n",
       "    </tr>\n",
       "    <tr>\n",
       "      <th>2530</th>\n",
       "      <td>20</td>\n",
       "    </tr>\n",
       "    <tr>\n",
       "      <th>341</th>\n",
       "      <td>20</td>\n",
       "    </tr>\n",
       "    <tr>\n",
       "      <th>5258</th>\n",
       "      <td>20</td>\n",
       "    </tr>\n",
       "    <tr>\n",
       "      <th>...</th>\n",
       "      <td>...</td>\n",
       "    </tr>\n",
       "    <tr>\n",
       "      <th>1181</th>\n",
       "      <td>1521</td>\n",
       "    </tr>\n",
       "    <tr>\n",
       "      <th>1941</th>\n",
       "      <td>1595</td>\n",
       "    </tr>\n",
       "    <tr>\n",
       "      <th>4277</th>\n",
       "      <td>1743</td>\n",
       "    </tr>\n",
       "    <tr>\n",
       "      <th>1680</th>\n",
       "      <td>1850</td>\n",
       "    </tr>\n",
       "    <tr>\n",
       "      <th>4169</th>\n",
       "      <td>2314</td>\n",
       "    </tr>\n",
       "  </tbody>\n",
       "</table>\n",
       "<p>6040 rows × 1 columns</p>\n",
       "</div>"
      ],
      "text/plain": [
       "        MovieID\n",
       "UserID         \n",
       "947          20\n",
       "4068         20\n",
       "2530         20\n",
       "341          20\n",
       "5258         20\n",
       "...         ...\n",
       "1181       1521\n",
       "1941       1595\n",
       "4277       1743\n",
       "1680       1850\n",
       "4169       2314\n",
       "\n",
       "[6040 rows x 1 columns]"
      ]
     },
     "execution_count": 9,
     "metadata": {},
     "output_type": "execute_result"
    }
   ],
   "source": [
    "ratings.groupby('UserID').count()[[\"MovieID\"]].sort_values(by=\"MovieID\")"
   ]
  },
  {
   "cell_type": "code",
   "execution_count": 10,
   "id": "6fc8ece8",
   "metadata": {},
   "outputs": [
    {
     "data": {
      "text/html": [
       "<div>\n",
       "<style scoped>\n",
       "    .dataframe tbody tr th:only-of-type {\n",
       "        vertical-align: middle;\n",
       "    }\n",
       "\n",
       "    .dataframe tbody tr th {\n",
       "        vertical-align: top;\n",
       "    }\n",
       "\n",
       "    .dataframe thead th {\n",
       "        text-align: right;\n",
       "    }\n",
       "</style>\n",
       "<table border=\"1\" class=\"dataframe\">\n",
       "  <thead>\n",
       "    <tr style=\"text-align: right;\">\n",
       "      <th></th>\n",
       "      <th>UserID</th>\n",
       "    </tr>\n",
       "    <tr>\n",
       "      <th>MovieID</th>\n",
       "      <th></th>\n",
       "    </tr>\n",
       "  </thead>\n",
       "  <tbody>\n",
       "    <tr>\n",
       "      <th>402</th>\n",
       "      <td>1</td>\n",
       "    </tr>\n",
       "    <tr>\n",
       "      <th>2214</th>\n",
       "      <td>1</td>\n",
       "    </tr>\n",
       "    <tr>\n",
       "      <th>3382</th>\n",
       "      <td>1</td>\n",
       "    </tr>\n",
       "    <tr>\n",
       "      <th>2217</th>\n",
       "      <td>1</td>\n",
       "    </tr>\n",
       "    <tr>\n",
       "      <th>2218</th>\n",
       "      <td>1</td>\n",
       "    </tr>\n",
       "    <tr>\n",
       "      <th>...</th>\n",
       "      <td>...</td>\n",
       "    </tr>\n",
       "    <tr>\n",
       "      <th>480</th>\n",
       "      <td>2672</td>\n",
       "    </tr>\n",
       "    <tr>\n",
       "      <th>1210</th>\n",
       "      <td>2883</td>\n",
       "    </tr>\n",
       "    <tr>\n",
       "      <th>1196</th>\n",
       "      <td>2990</td>\n",
       "    </tr>\n",
       "    <tr>\n",
       "      <th>260</th>\n",
       "      <td>2991</td>\n",
       "    </tr>\n",
       "    <tr>\n",
       "      <th>2858</th>\n",
       "      <td>3428</td>\n",
       "    </tr>\n",
       "  </tbody>\n",
       "</table>\n",
       "<p>3706 rows × 1 columns</p>\n",
       "</div>"
      ],
      "text/plain": [
       "         UserID\n",
       "MovieID        \n",
       "402           1\n",
       "2214          1\n",
       "3382          1\n",
       "2217          1\n",
       "2218          1\n",
       "...         ...\n",
       "480        2672\n",
       "1210       2883\n",
       "1196       2990\n",
       "260        2991\n",
       "2858       3428\n",
       "\n",
       "[3706 rows x 1 columns]"
      ]
     },
     "execution_count": 10,
     "metadata": {},
     "output_type": "execute_result"
    }
   ],
   "source": [
    "ratings.groupby('MovieID').count()[['UserID']].sort_values(by='UserID')"
   ]
  },
  {
   "cell_type": "code",
   "execution_count": 11,
   "id": "4f204b68",
   "metadata": {},
   "outputs": [
    {
     "data": {
      "text/html": [
       "<div>\n",
       "<style scoped>\n",
       "    .dataframe tbody tr th:only-of-type {\n",
       "        vertical-align: middle;\n",
       "    }\n",
       "\n",
       "    .dataframe tbody tr th {\n",
       "        vertical-align: top;\n",
       "    }\n",
       "\n",
       "    .dataframe thead th {\n",
       "        text-align: right;\n",
       "    }\n",
       "</style>\n",
       "<table border=\"1\" class=\"dataframe\">\n",
       "  <thead>\n",
       "    <tr style=\"text-align: right;\">\n",
       "      <th></th>\n",
       "      <th>UserID</th>\n",
       "      <th>MovieID</th>\n",
       "      <th>Rating</th>\n",
       "      <th>Timestamp</th>\n",
       "    </tr>\n",
       "  </thead>\n",
       "  <tbody>\n",
       "    <tr>\n",
       "      <th>0</th>\n",
       "      <td>1</td>\n",
       "      <td>1193</td>\n",
       "      <td>5</td>\n",
       "      <td>978300760</td>\n",
       "    </tr>\n",
       "    <tr>\n",
       "      <th>1</th>\n",
       "      <td>1</td>\n",
       "      <td>661</td>\n",
       "      <td>3</td>\n",
       "      <td>978302109</td>\n",
       "    </tr>\n",
       "    <tr>\n",
       "      <th>2</th>\n",
       "      <td>1</td>\n",
       "      <td>914</td>\n",
       "      <td>3</td>\n",
       "      <td>978301968</td>\n",
       "    </tr>\n",
       "    <tr>\n",
       "      <th>3</th>\n",
       "      <td>1</td>\n",
       "      <td>3408</td>\n",
       "      <td>4</td>\n",
       "      <td>978300275</td>\n",
       "    </tr>\n",
       "    <tr>\n",
       "      <th>4</th>\n",
       "      <td>1</td>\n",
       "      <td>2355</td>\n",
       "      <td>5</td>\n",
       "      <td>978824291</td>\n",
       "    </tr>\n",
       "  </tbody>\n",
       "</table>\n",
       "</div>"
      ],
      "text/plain": [
       "   UserID  MovieID  Rating  Timestamp\n",
       "0       1     1193       5  978300760\n",
       "1       1      661       3  978302109\n",
       "2       1      914       3  978301968\n",
       "3       1     3408       4  978300275\n",
       "4       1     2355       5  978824291"
      ]
     },
     "execution_count": 11,
     "metadata": {},
     "output_type": "execute_result"
    }
   ],
   "source": [
    "ratings.head()"
   ]
  },
  {
   "cell_type": "code",
   "execution_count": 18,
   "id": "7e131fb3",
   "metadata": {},
   "outputs": [
    {
     "data": {
      "text/plain": [
       "6040"
      ]
     },
     "execution_count": 18,
     "metadata": {},
     "output_type": "execute_result"
    }
   ],
   "source": [
    "ratings['UserID'].nunique()"
   ]
  },
  {
   "cell_type": "code",
   "execution_count": 23,
   "id": "0cc9f635",
   "metadata": {},
   "outputs": [
    {
     "data": {
      "text/plain": [
       "6040"
      ]
     },
     "execution_count": 23,
     "metadata": {},
     "output_type": "execute_result"
    }
   ],
   "source": [
    "ratings['UserID'].max()"
   ]
  },
  {
   "cell_type": "code",
   "execution_count": 19,
   "id": "1ca06e14",
   "metadata": {},
   "outputs": [
    {
     "data": {
      "text/plain": [
       "3706"
      ]
     },
     "execution_count": 19,
     "metadata": {},
     "output_type": "execute_result"
    }
   ],
   "source": [
    "ratings['MovieID'].nunique()"
   ]
  },
  {
   "cell_type": "code",
   "execution_count": 20,
   "id": "5b10e553",
   "metadata": {},
   "outputs": [
    {
     "data": {
      "text/plain": [
       "3952"
      ]
     },
     "execution_count": 20,
     "metadata": {},
     "output_type": "execute_result"
    }
   ],
   "source": [
    "ratings['MovieID'].max()"
   ]
  },
  {
   "cell_type": "code",
   "execution_count": 21,
   "id": "66cd293b",
   "metadata": {},
   "outputs": [
    {
     "data": {
      "text/plain": [
       "3952"
      ]
     },
     "execution_count": 21,
     "metadata": {},
     "output_type": "execute_result"
    }
   ],
   "source": [
    "movies['MovieID'].max()"
   ]
  },
  {
   "cell_type": "code",
   "execution_count": 22,
   "id": "e6021e15",
   "metadata": {},
   "outputs": [
    {
     "data": {
      "text/plain": [
       "3883"
      ]
     },
     "execution_count": 22,
     "metadata": {},
     "output_type": "execute_result"
    }
   ],
   "source": [
    "movies['MovieID'].nunique()"
   ]
  },
  {
   "cell_type": "code",
   "execution_count": 24,
   "id": "1dd657da",
   "metadata": {},
   "outputs": [],
   "source": [
    "USERS_CNT = ratings['UserID'].max()\n",
    "ITEMS_CNT = ratings['MovieID'].max()"
   ]
  },
  {
   "cell_type": "code",
   "execution_count": 25,
   "id": "sitting-chosen",
   "metadata": {},
   "outputs": [],
   "source": [
    "train_ratings, test_ratings = train_test_split(ratings, test_size=0.1)"
   ]
  },
  {
   "cell_type": "code",
   "execution_count": 31,
   "id": "60de34de",
   "metadata": {},
   "outputs": [
    {
     "data": {
      "text/plain": [
       "((900188, 4), (100021, 4))"
      ]
     },
     "execution_count": 31,
     "metadata": {},
     "output_type": "execute_result"
    }
   ],
   "source": [
    "train_ratings.shape, test_ratings.shape"
   ]
  },
  {
   "cell_type": "code",
   "execution_count": 28,
   "id": "26849437",
   "metadata": {},
   "outputs": [],
   "source": [
    "def generate_sparse_matrix(dataset):\n",
    "\n",
    "    items = np.zeros(shape = (ITEMS_CNT, USERS_CNT), dtype = np.float32)\n",
    "\n",
    "    for index, row in dataset.iterrows():\n",
    "        items[int(row['MovieID'] - 1), int(row['UserID'] - 1)] = row['Rating']\n",
    "\n",
    "    return items"
   ]
  },
  {
   "cell_type": "code",
   "execution_count": 29,
   "id": "imperial-dressing",
   "metadata": {},
   "outputs": [],
   "source": [
    "train_sparse_matrix = generate_sparse_matrix(train_ratings)\n",
    "test_sparse_matrix = generate_sparse_matrix(test_ratings)"
   ]
  },
  {
   "cell_type": "code",
   "execution_count": 30,
   "id": "suitable-sessions",
   "metadata": {},
   "outputs": [
    {
     "name": "stdout",
     "output_type": "stream",
     "text": [
      "Train Sparse Matrix:  (3952, 6040)\n",
      "Test Sparse Matrix:  (3952, 6040)\n"
     ]
    }
   ],
   "source": [
    "print(\"Train Sparse Matrix: \", train_sparse_matrix.shape)\n",
    "print(\"Test Sparse Matrix: \", test_sparse_matrix.shape)"
   ]
  },
  {
   "cell_type": "code",
   "execution_count": 12,
   "id": "8ec64200",
   "metadata": {},
   "outputs": [],
   "source": [
    "MASK_RATIO = 0.25"
   ]
  },
  {
   "cell_type": "code",
   "execution_count": 38,
   "id": "b37eda5f",
   "metadata": {},
   "outputs": [],
   "source": [
    "from torch.utils.data import Dataset\n",
    "\n",
    "class RatingsDataset(Dataset):\n",
    "    \n",
    "    def __init__(self, ratings):\n",
    "        self.ratings = ratings.copy()\n",
    "        self.known_indices = self.get_known_indices()\n",
    "        self.normalize()\n",
    "        self.subtract_mean()\n",
    "        \n",
    "        self.masked_ratings, self.masked_indices = self.mask_ratings()\n",
    "        \n",
    "        \n",
    "    def __len__(self):\n",
    "        return len(self.ratings)\n",
    "    \n",
    "    def __getitem__(self, index):\n",
    "        \n",
    "        result = {\n",
    "            'inp': torch.from_numpy(np.array(self.masked_ratings[index])).float(), \n",
    "            'out': torch.from_numpy(np.array(self.ratings[index])).float(),\n",
    "            'known_indices': self.known_indices[index],\n",
    "            'masked_indices': self.masked_indices[index]\n",
    "        }\n",
    "        \n",
    "        return result\n",
    "        \n",
    "    \n",
    "    def get_known_indices(self):\n",
    "        known_indices = np.zeros(shape = self.ratings.shape)\n",
    "\n",
    "        for idx, rating in enumerate(self.ratings):\n",
    "            known = np.where(rating > 0)[0]\n",
    "            known_indices[idx][known] = 1\n",
    "            \n",
    "        return known_indices\n",
    "        \n",
    "    \n",
    "    # normalize between -1 and 1\n",
    "    def normalize(self):\n",
    "        \n",
    "        for idx, rating in enumerate(self.ratings):\n",
    "            known = np.where(self.known_indices[idx] == 1)[0]\n",
    "            \n",
    "            if len(known) > 0:\n",
    "                rating[known] -= 3\n",
    "                rating[known] /= 2\n",
    "    \n",
    "    def subtract_mean(self):\n",
    "        \n",
    "        for idx, rating in enumerate(self.ratings):\n",
    "            known = np.where(self.known_indices[idx] == 1)[0]\n",
    "\n",
    "            if len(known) > 0:\n",
    "                mean = rating[known].mean()\n",
    "                rating[known] -= mean\n",
    "                \n",
    "    def mask_ratings(self):\n",
    "    \n",
    "        masked_ratings = self.ratings.copy()\n",
    "        masked_indices = np.zeros(shape = self.ratings.shape)\n",
    "                \n",
    "        for idx, rating in enumerate(masked_ratings):\n",
    "            \n",
    "            known = np.where(self.known_indices[idx] == 1)[0].tolist()\n",
    "            known_cnt = len(known)\n",
    "            masked_cnt = int(MASK_RATIO * known_cnt)\n",
    "            masked = random.sample(known, masked_cnt)\n",
    "            rating[masked] = 0\n",
    "                        \n",
    "            masked_indices[idx][masked] = 1\n",
    "            \n",
    "            \n",
    "        return masked_ratings, masked_indices"
   ]
  },
  {
   "cell_type": "code",
   "execution_count": 39,
   "id": "49bdd0fe",
   "metadata": {},
   "outputs": [
    {
     "name": "stdout",
     "output_type": "stream",
     "text": [
      "Input:  tensor([0., 0., 0.,  ..., 0., 0., 0.]) Input Length:  6040\n",
      "Output:  tensor([ 0.4262,  0.0000,  0.0000,  ...,  0.0000,  0.0000, -0.5738]) Output Length:  6040\n",
      "Input:  tensor([0., 0., 0.,  ..., 0., 0., 0.]) Input Length:  6040\n",
      "Output:  tensor([0., 0., 0.,  ..., 0., 0., 0.]) Output Length:  6040\n"
     ]
    }
   ],
   "source": [
    "train_dataset = RatingsDataset(train_sparse_matrix)\n",
    "print(\"Input: \", train_dataset[0]['inp'], \"Input Length: \", len(train_dataset[0]['inp']))\n",
    "print(\"Output: \", train_dataset[0]['out'], \"Output Length: \", len(train_dataset[0]['out']))\n",
    "\n",
    "test_dataset = RatingsDataset(test_sparse_matrix)\n",
    "print(\"Input: \", test_dataset[0]['inp'], \"Input Length: \", len(test_dataset[0]['inp']))\n",
    "print(\"Output: \", test_dataset[0]['out'], \"Output Length: \", len(test_dataset[0]['out']))"
   ]
  },
  {
   "cell_type": "code",
   "execution_count": 40,
   "id": "d2e179e8",
   "metadata": {},
   "outputs": [
    {
     "name": "stdout",
     "output_type": "stream",
     "text": [
      "{'inp': tensor([0., 0., 0.,  ..., 0., 0., 0.]), 'out': tensor([0., 0., 0.,  ..., 0., 0., 0.]), 'known_indices': array([0., 0., 0., ..., 0., 0., 0.]), 'masked_indices': array([0., 0., 0., ..., 0., 0., 0.])}\n"
     ]
    }
   ],
   "source": [
    "print(train_dataset[1])"
   ]
  },
  {
   "cell_type": "code",
   "execution_count": 44,
   "id": "8c0d3f2a",
   "metadata": {},
   "outputs": [
    {
     "data": {
      "text/plain": [
       "635"
      ]
     },
     "execution_count": 44,
     "metadata": {},
     "output_type": "execute_result"
    }
   ],
   "source": [
    "len(np.where(train_dataset[1]['known_indices'] == 1)[0])"
   ]
  },
  {
   "cell_type": "code",
   "execution_count": 45,
   "id": "4feee21f",
   "metadata": {},
   "outputs": [
    {
     "data": {
      "text/plain": [
       "158"
      ]
     },
     "execution_count": 45,
     "metadata": {},
     "output_type": "execute_result"
    }
   ],
   "source": [
    "len(np.where(train_dataset[1]['masked_indices'] == 1)[0])"
   ]
  },
  {
   "cell_type": "code",
   "execution_count": 51,
   "id": "6b1332cb",
   "metadata": {},
   "outputs": [
    {
     "data": {
      "text/plain": [
       "(array([  17,   22,   26,   39,   43,   47,   52,   59,   61,   74,   82,\n",
       "          91,  108,  113,  118,  126,  135,  145,  146,  147,  148,  162,\n",
       "         194,  197,  203,  221,  222,  228,  244,  261,  263,  269,  270,\n",
       "         271,  292,  301,  307,  309,  320,  328,  336,  354,  365,  367,\n",
       "         386,  402,  412,  423,  428,  430,  437,  448,  473,  474,  475,\n",
       "         508,  532,  540,  548,  549,  562,  565,  570,  600,  628,  633,\n",
       "         640,  661,  668,  677,  691,  694,  698,  709,  711,  712,  713,\n",
       "         730,  745,  752,  764,  776,  779,  797,  809,  816,  868,  876,\n",
       "         879,  889,  910,  958,  970,  983, 1003, 1009, 1031, 1041, 1049,\n",
       "        1050, 1057, 1079, 1086, 1095, 1099, 1100, 1108, 1111, 1114, 1118,\n",
       "        1119, 1124, 1131, 1140, 1151, 1167, 1201, 1202, 1206, 1219, 1229,\n",
       "        1243, 1245, 1263, 1264, 1265, 1270, 1297, 1300, 1302, 1313, 1316,\n",
       "        1329, 1332, 1338, 1339, 1347, 1368, 1370, 1376, 1379, 1388, 1391,\n",
       "        1402, 1420, 1424, 1446, 1447, 1448, 1493, 1494, 1495, 1500, 1501,\n",
       "        1528, 1529, 1541, 1545, 1556, 1585, 1591, 1598, 1599, 1604, 1605,\n",
       "        1610, 1613, 1615, 1634, 1636, 1640, 1644, 1648, 1674, 1675, 1679,\n",
       "        1688, 1693, 1715, 1725, 1732, 1736, 1745, 1756, 1760, 1763, 1775,\n",
       "        1779, 1780, 1817, 1836, 1840, 1853, 1860, 1879, 1883, 1890, 1898,\n",
       "        1900, 1903, 1919, 1921, 1930, 1940, 1942, 1955, 1957, 1963, 1968,\n",
       "        1979, 1982, 1987, 1995, 2002, 2011, 2014, 2046, 2053, 2062, 2076,\n",
       "        2087, 2096, 2105, 2108, 2115, 2118, 2119, 2123, 2135, 2147, 2151,\n",
       "        2156, 2179, 2180, 2187, 2191, 2202, 2222, 2241, 2257, 2262, 2264,\n",
       "        2307, 2318, 2410, 2423, 2443, 2453, 2460, 2469, 2478, 2488, 2491,\n",
       "        2509, 2518, 2528, 2539, 2550, 2557, 2564, 2565, 2575, 2582, 2591,\n",
       "        2594, 2623, 2637, 2663, 2664, 2674, 2726, 2742, 2776, 2803, 2844,\n",
       "        2847, 2856, 2875, 2886, 2887, 2906, 2908, 2917, 2925, 2927, 2933,\n",
       "        2961, 2965, 2975, 2984, 2988, 2994, 2995, 2996, 3012, 3023, 3028,\n",
       "        3031, 3055, 3066, 3079, 3080, 3081, 3086, 3092, 3100, 3107, 3109,\n",
       "        3118, 3120, 3127, 3139, 3140, 3146, 3154, 3157, 3162, 3188, 3195,\n",
       "        3201, 3204, 3223, 3227, 3258, 3260, 3271, 3291, 3299, 3307, 3310,\n",
       "        3311, 3319, 3335, 3366, 3369, 3388, 3390, 3393, 3400, 3413, 3433,\n",
       "        3457, 3461, 3470, 3482, 3490, 3500, 3502, 3506, 3508, 3510, 3511,\n",
       "        3521, 3539, 3554, 3555, 3564, 3568, 3575, 3577, 3581, 3590, 3608,\n",
       "        3609, 3617, 3619, 3623, 3625, 3647, 3649, 3654, 3666, 3674, 3675,\n",
       "        3686, 3688, 3690, 3691, 3692, 3696, 3697, 3710, 3711, 3714, 3725,\n",
       "        3726, 3755, 3770, 3772, 3773, 3776, 3777, 3791, 3806, 3807, 3818,\n",
       "        3819, 3826, 3833, 3841, 3852, 3883, 3886, 3921, 3933, 3944, 3945,\n",
       "        3950, 3957, 3970, 3989, 3991, 3993, 3996, 3998, 4005, 4012, 4015,\n",
       "        4019, 4020, 4021, 4032, 4040, 4041, 4047, 4057, 4063, 4084, 4085,\n",
       "        4087, 4088, 4095, 4106, 4111, 4114, 4122, 4123, 4126, 4130, 4139,\n",
       "        4140, 4149, 4168, 4185, 4221, 4226, 4233, 4237, 4241, 4261, 4270,\n",
       "        4276, 4278, 4284, 4311, 4317, 4321, 4332, 4335, 4343, 4344, 4351,\n",
       "        4353, 4358, 4359, 4362, 4363, 4373, 4385, 4386, 4387, 4403, 4445,\n",
       "        4446, 4447, 4455, 4481, 4489, 4496, 4497, 4501, 4507, 4509, 4523,\n",
       "        4540, 4555, 4566, 4571, 4576, 4584, 4590, 4599, 4600, 4609, 4632,\n",
       "        4634, 4655, 4657, 4665, 4686, 4696, 4703, 4718, 4724, 4725, 4735,\n",
       "        4785, 4787, 4795, 4807, 4809, 4818, 4823, 4833, 4854, 4866, 4887,\n",
       "        4896, 4901, 4907, 4952, 4956, 4957, 4974, 4978, 4999, 5000, 5010,\n",
       "        5025, 5029, 5045, 5053, 5062, 5073, 5083, 5099, 5113, 5130, 5135,\n",
       "        5141, 5150, 5160, 5166, 5171, 5199, 5217, 5221, 5224, 5229, 5231,\n",
       "        5249, 5267, 5276, 5277, 5286, 5301, 5305, 5318, 5321, 5350, 5358,\n",
       "        5360, 5364, 5366, 5400, 5407, 5419, 5432, 5440, 5442, 5451, 5454,\n",
       "        5470, 5491, 5492, 5503, 5505, 5510, 5514, 5522, 5529, 5535, 5542,\n",
       "        5554, 5557, 5569, 5579, 5603, 5604, 5613, 5614, 5618, 5619, 5626,\n",
       "        5633, 5642, 5649, 5656, 5662, 5681, 5688, 5690, 5697, 5704, 5719,\n",
       "        5746, 5750, 5761, 5762, 5781, 5793, 5794, 5811, 5830, 5836, 5847,\n",
       "        5853, 5856, 5874, 5885, 5907, 5924, 5930, 5937, 5953, 5955, 5960,\n",
       "        5963, 5977, 5988, 5995, 6000, 6005, 6018, 6029], dtype=int64),)"
      ]
     },
     "execution_count": 51,
     "metadata": {},
     "output_type": "execute_result"
    }
   ],
   "source": [
    "np.where(train_dataset[1]['known_indices'] == 1)"
   ]
  },
  {
   "cell_type": "code",
   "execution_count": 48,
   "id": "4922dcf5",
   "metadata": {},
   "outputs": [
    {
     "data": {
      "text/plain": [
       "(array([  22,   43,   82,  108,  126,  221,  222,  261,  269,  271,  354,\n",
       "         367,  437,  448,  473,  532,  548,  549,  565,  600,  628,  712,\n",
       "         764,  776,  797,  809,  816,  983, 1003, 1108, 1111, 1140, 1151,\n",
       "        1167, 1219, 1229, 1245, 1300, 1313, 1316, 1329, 1347, 1368, 1370,\n",
       "        1376, 1402, 1420, 1448, 1495, 1541, 1598, 1674, 1715, 1732, 1780,\n",
       "        1853, 1890, 1898, 1919, 1942, 1995, 2053, 2087, 2096, 2108, 2118,\n",
       "        2241, 2257, 2469, 2509, 2518, 2550, 2565, 2582, 2591, 2594, 2623,\n",
       "        2664, 2674, 2906, 2961, 3023, 3081, 3092, 3109, 3118, 3139, 3154,\n",
       "        3195, 3223, 3291, 3311, 3366, 3461, 3482, 3500, 3510, 3521, 3608,\n",
       "        3609, 3617, 3654, 3666, 3675, 3691, 3725, 3755, 3776, 3791, 3807,\n",
       "        3818, 3833, 3933, 3944, 3945, 3970, 4063, 4085, 4095, 4126, 4139,\n",
       "        4226, 4311, 4317, 4359, 4362, 4403, 4445, 4489, 4507, 4576, 4599,\n",
       "        4718, 4807, 4823, 4866, 4956, 5025, 5053, 5113, 5217, 5350, 5364,\n",
       "        5614, 5656, 5662, 5697, 5750, 5793, 5794, 5811, 5847, 5853, 5874,\n",
       "        5930, 5960, 5995, 6000], dtype=int64),)"
      ]
     },
     "execution_count": 48,
     "metadata": {},
     "output_type": "execute_result"
    }
   ],
   "source": [
    "np.where(train_dataset[1]['masked_indices'] == 1)"
   ]
  },
  {
   "cell_type": "code",
   "execution_count": 52,
   "id": "c53c6616",
   "metadata": {},
   "outputs": [
    {
     "data": {
      "text/plain": [
       "tensor(-0.6071)"
      ]
     },
     "execution_count": 52,
     "metadata": {},
     "output_type": "execute_result"
    }
   ],
   "source": [
    "train_dataset[1]['inp'][17]"
   ]
  },
  {
   "cell_type": "code",
   "execution_count": 65,
   "id": "053dab47",
   "metadata": {},
   "outputs": [
    {
     "data": {
      "text/plain": [
       "tensor(0.)"
      ]
     },
     "execution_count": 65,
     "metadata": {},
     "output_type": "execute_result"
    }
   ],
   "source": [
    "train_dataset[1]['inp'][5853]"
   ]
  },
  {
   "cell_type": "code",
   "execution_count": 54,
   "id": "5316a575",
   "metadata": {},
   "outputs": [
    {
     "data": {
      "text/plain": [
       "tensor(-0.6071)"
      ]
     },
     "execution_count": 54,
     "metadata": {},
     "output_type": "execute_result"
    }
   ],
   "source": [
    "train_dataset[1]['out'][17]"
   ]
  },
  {
   "cell_type": "code",
   "execution_count": 64,
   "id": "9a39e3bd",
   "metadata": {},
   "outputs": [
    {
     "data": {
      "text/plain": [
       "tensor(0.3929)"
      ]
     },
     "execution_count": 64,
     "metadata": {},
     "output_type": "execute_result"
    }
   ],
   "source": [
    "train_dataset[1]['out'][5853]"
   ]
  },
  {
   "cell_type": "markdown",
   "id": "processed-style",
   "metadata": {},
   "source": [
    "# Network"
   ]
  },
  {
   "cell_type": "code",
   "execution_count": 66,
   "id": "first-mozambique",
   "metadata": {},
   "outputs": [
    {
     "name": "stdout",
     "output_type": "stream",
     "text": [
      "Denoising_Model(\n",
      "  (encoder): Sequential(\n",
      "    (0): Linear(in_features=6040, out_features=770, bias=True)\n",
      "    (1): Tanh()\n",
      "  )\n",
      "  (decoder): Sequential(\n",
      "    (0): Linear(in_features=770, out_features=6040, bias=True)\n",
      "    (1): Tanh()\n",
      "  )\n",
      ")\n"
     ]
    }
   ],
   "source": [
    "import torch.nn as nn\n",
    "\n",
    "\n",
    "inputSize = 6040\n",
    "class Denoising_Model(nn.Module):\n",
    "    def __init__(self):\n",
    "        super(Denoising_Model,self).__init__()\n",
    "        self.encoder=nn.Sequential(\n",
    "                      nn.Linear(inputSize, 770),  # There are 6040 users in movieLens-1M\n",
    "                      nn.Tanh()\n",
    "                      )\n",
    "\n",
    "        self.decoder=nn.Sequential(\n",
    "                      nn.Linear(770, inputSize),\n",
    "                      nn.Tanh()\n",
    "                      )\n",
    "\n",
    "\n",
    "    def forward(self,x):\n",
    "        x=self.encoder(x)\n",
    "        x=self.decoder(x)\n",
    "        return x\n",
    "    \n",
    "network = Denoising_Model()\n",
    "print(network)"
   ]
  },
  {
   "cell_type": "code",
   "execution_count": 150,
   "id": "25373092",
   "metadata": {},
   "outputs": [],
   "source": [
    "ALPHA = 1\n",
    "BETA = 0.5\n",
    "REG_PARAM = 0.005"
   ]
  },
  {
   "cell_type": "code",
   "execution_count": 158,
   "id": "b4d39a7d",
   "metadata": {},
   "outputs": [],
   "source": [
    "def denosingLoss(output, target, known, masked):\n",
    "\n",
    "    loss = 0\n",
    "        \n",
    "    for idx, out in enumerate(output):\n",
    "        known_idx = np.where(known[idx] == 1)[0]\n",
    "        masked_idx = np.where(masked[idx] == 1)[0]\n",
    "        not_masked_idx = list(set(known_idx) - set(masked_idx))\n",
    "        \n",
    "        masked_output = output[idx][masked_idx]\n",
    "        masked_target = target[idx][masked_idx]\n",
    "        \n",
    "        not_masked_output = output[idx][not_masked_idx]\n",
    "        not_masked_target = target[idx][not_masked_idx]\n",
    "\n",
    "        if len(masked_idx) > 0:\n",
    "            loss += ALPHA * torch.sum(torch.square(torch.sub(masked_output, masked_target))) \n",
    "            \n",
    "        if len(not_masked_idx) > 0:\n",
    "            loss += BETA * torch.sum(torch.square(torch.sub(not_masked_output, not_masked_target)))\n",
    "        \n",
    "        # loss += REG_PARAM * torch.sum(torch.square(weights)) Add regularization\n",
    "\n",
    "    return loss "
   ]
  },
  {
   "cell_type": "code",
   "execution_count": 159,
   "id": "frozen-grove",
   "metadata": {},
   "outputs": [
    {
     "name": "stdout",
     "output_type": "stream",
     "text": [
      "3952\n"
     ]
    }
   ],
   "source": [
    "print(len(train_dataset))"
   ]
  },
  {
   "cell_type": "code",
   "execution_count": 160,
   "id": "230b9723",
   "metadata": {},
   "outputs": [],
   "source": [
    "def init_weights(m):\n",
    "    if type(m) == nn.Linear:\n",
    "        torch.nn.init.xavier_uniform_(m.weight)\n",
    "        m.bias.data.fill_(0)"
   ]
  },
  {
   "cell_type": "code",
   "execution_count": 161,
   "id": "familiar-berlin",
   "metadata": {},
   "outputs": [],
   "source": [
    "def train(model, inp, target, optimizer, known, masked):   \n",
    "#     masked_ratings,target=masked_ratings.to(device),target.to(device)\n",
    "    \n",
    "    # Forward Pass\n",
    "    output = model(inp)\n",
    "    loss = denosingLoss(output, target, known, masked)\n",
    "        \n",
    "    #Backward Pass---------------------\n",
    "    optimizer.zero_grad()\n",
    "    loss.backward()\n",
    "    optimizer.step()\n",
    "   # scheduler.step()\n",
    "\n",
    "    return loss, output\n"
   ]
  },
  {
   "cell_type": "code",
   "execution_count": 162,
   "id": "77d47c6d",
   "metadata": {},
   "outputs": [
    {
     "name": "stdout",
     "output_type": "stream",
     "text": [
      "Epoch 1 Loss : 156.32398986816406\n",
      "Epoch 2 Loss : 136.69903564453125\n",
      "Epoch 3 Loss : 130.4447784423828\n",
      "Epoch 4 Loss : 125.8723373413086\n",
      "Epoch 5 Loss : 122.0219497680664\n",
      "Epoch 6 Loss : 119.12550354003906\n",
      "Epoch 7 Loss : 116.94558715820312\n",
      "Epoch 8 Loss : 115.00597381591797\n",
      "Epoch 9 Loss : 114.39061737060547\n",
      "Epoch 10 Loss : 113.645263671875\n",
      "Epoch 11 Loss : 112.80889892578125\n",
      "Epoch 12 Loss : 112.53568267822266\n",
      "Epoch 13 Loss : 112.33924102783203\n",
      "Epoch 14 Loss : 112.1200942993164\n",
      "Epoch 15 Loss : 111.87872314453125\n",
      "Epoch 16 Loss : 111.5798568725586\n",
      "Epoch 17 Loss : 111.89928436279297\n",
      "Epoch 18 Loss : 111.86024475097656\n",
      "Epoch 19 Loss : 111.86781311035156\n",
      "Epoch 20 Loss : 111.67546081542969\n"
     ]
    }
   ],
   "source": [
    "from torch.optim import Adam\n",
    "from torch.optim import lr_scheduler\n",
    "from torch.utils.data import DataLoader\n",
    "from tqdm import tqdm\n",
    "from torch import optim\n",
    "from torch.utils.data import DataLoader\n",
    "\n",
    "# if torch.cuda.is_available() == True:\n",
    "#     device=\"cuda:0\"\n",
    "# else:\n",
    "device =\"cpu\"\n",
    "\n",
    "EPOCHS = 20\n",
    "BATCH_SIZE = 35\n",
    "\n",
    "train_loader = DataLoader(dataset = train_dataset, batch_size = BATCH_SIZE, shuffle = True)\n",
    "model = Denoising_Model().to(device)\n",
    "init_weights(model)\n",
    "\n",
    "#criterion = nn.MSELoss()\n",
    "# optimizer=Adam(model.parameters(),lr=0.07,weight_decay=0.05)\n",
    "optimizer = optim.SGD(model.parameters(), lr = 0.07, weight_decay = 0.05)\n",
    "#exp_lr_scheduler = lr_scheduler.StepLR(optimizer, step_size = 1, gamma = 0.3)\n",
    "\n",
    "epoch_loss = 0\n",
    "epoch_loss = []\n",
    "\n",
    "for epoch in range(EPOCHS): \n",
    "    acc_epoch_loss = 0\n",
    "    \n",
    "    for bidx, batch in enumerate(train_loader):\n",
    "        \n",
    "        x_train = batch['inp']\n",
    "        y_train = batch['out']\n",
    "        known = batch['known_indices']\n",
    "        masked = batch['masked_indices']\n",
    "        \n",
    "        loss, predictions = train(model, x_train, y_train, optimizer, known, masked)\n",
    "        acc_epoch_loss += loss\n",
    "    \n",
    "    epoch_loss.append(acc_epoch_loss / len(train_dataset))  \n",
    "    \n",
    "    print('Epoch {} Loss : {}'.format((epoch+1), epoch_loss[epoch] ))\n",
    "    \n"
   ]
  },
  {
   "cell_type": "code",
   "execution_count": 163,
   "id": "807f8296",
   "metadata": {},
   "outputs": [
    {
     "name": "stdout",
     "output_type": "stream",
     "text": [
      "(tensor([[0.0000, 0.0000, 0.0000,  ..., 0.0000, 0.0000, 0.0000],\n",
      "        [0.0000, 0.0000, 0.0000,  ..., 0.0000, 0.0000, 0.0000],\n",
      "        [0.0000, 0.0000, 0.0000,  ..., 0.0000, 0.0000, 0.0000],\n",
      "        ...,\n",
      "        [0.0000, 0.0000, 0.0000,  ..., 0.0000, 0.0000, 0.0572],\n",
      "        [0.0000, 0.0000, 0.0000,  ..., 0.0000, 0.0000, 0.0000],\n",
      "        [0.0000, 0.0000, 0.0000,  ..., 0.0000, 0.0000, 0.0185]]), tensor([[0., 0., 0.,  ..., 0., 0., 0.],\n",
      "        [0., 0., 0.,  ..., 0., 0., 0.],\n",
      "        [0., 0., 0.,  ..., 0., 0., 0.],\n",
      "        ...,\n",
      "        [0., 0., 0.,  ..., 0., 0., 0.],\n",
      "        [0., 0., 0.,  ..., 0., 0., 0.],\n",
      "        [0., 0., 0.,  ..., 0., 0., 0.]]), tensor([[0., 0., 0.,  ..., 0., 0., 0.],\n",
      "        [0., 0., 0.,  ..., 0., 0., 0.],\n",
      "        [0., 0., 0.,  ..., 0., 0., 0.],\n",
      "        ...,\n",
      "        [0., 0., 0.,  ..., 0., 0., 0.],\n",
      "        [0., 0., 0.,  ..., 0., 0., 0.],\n",
      "        [0., 0., 0.,  ..., 0., 0., 0.]], dtype=torch.float64))\n"
     ]
    }
   ],
   "source": [
    "test_batch = []\n",
    "train_batch = []\n",
    "known_batch = []\n",
    "all_ratings_cnt = 0\n",
    "batch_size = 35\n",
    "minibatches = []\n",
    "\n",
    "for idx, test in enumerate(test_dataset):\n",
    "    known_ratings_cnt = len(np.where(test['known_indices'] == 1)[0])\n",
    "    \n",
    "    if known_ratings_cnt > 0:\n",
    "        \n",
    "        \n",
    "        all_ratings_cnt += known_ratings_cnt\n",
    "        train_batch.append(train_dataset[idx]['inp'])\n",
    "        known_batch.append(torch.tensor(test['known_indices']))\n",
    "        test_batch.append(test['inp'])\n",
    "        \n",
    "    if len(test_batch) >= batch_size:\n",
    "        minibatches.append((torch.stack(train_batch), torch.stack(test_batch), torch.stack(known_batch)))\n",
    "        test_batch.clear()\n",
    "        train_batch.clear()\n",
    "        known_batch.clear()\n",
    "        \n",
    "print(minibatches[0])\n",
    "       "
   ]
  },
  {
   "cell_type": "code",
   "execution_count": 164,
   "id": "sized-hungary",
   "metadata": {},
   "outputs": [
    {
     "name": "stdout",
     "output_type": "stream",
     "text": [
      "100021\n",
      "0.9517879488358227\n"
     ]
    }
   ],
   "source": [
    "from sklearn.metrics import mean_squared_error\n",
    "from math import sqrt\n",
    "\n",
    "from torch.nn import MSELoss\n",
    "\n",
    "\n",
    "def test():\n",
    "    criterion = nn.MSELoss()\n",
    "    noRatings = 0\n",
    "    input, target, minibatch = {}, {}, {}\n",
    "\n",
    "    \n",
    "    mse = 0        \n",
    "    with torch.no_grad():\n",
    "        for bidx, batch in enumerate(minibatches):\n",
    "                train_batch = batch[0]\n",
    "                test_batch = batch[1]\n",
    "                known_batch = batch[2]\n",
    "                y_predictions = model(train_batch)\n",
    "\n",
    "                for idx, test in enumerate(test_batch):\n",
    "                    y_true = test[np.where(known_batch[idx].numpy() == 1)[0]]\n",
    "                    y_pred = y_predictions[idx][np.where(known_batch[idx].numpy() == 1)[0]]\n",
    "                    \n",
    "                    mse += torch.sum((y_pred - y_true)**2)\n",
    "\n",
    "    print(all_ratings_cnt)  \n",
    "    mse = mse / all_ratings_cnt\n",
    "    rmse = sqrt(mse)\n",
    "    print(rmse)\n",
    "    \n",
    "test()\n"
   ]
  },
  {
   "cell_type": "code",
   "execution_count": null,
   "id": "d7ae8b17",
   "metadata": {},
   "outputs": [],
   "source": []
  }
 ],
 "metadata": {
  "kernelspec": {
   "display_name": "Python 3",
   "language": "python",
   "name": "python3"
  },
  "language_info": {
   "codemirror_mode": {
    "name": "ipython",
    "version": 3
   },
   "file_extension": ".py",
   "mimetype": "text/x-python",
   "name": "python",
   "nbconvert_exporter": "python",
   "pygments_lexer": "ipython3",
   "version": "3.8.0"
  }
 },
 "nbformat": 4,
 "nbformat_minor": 5
}
