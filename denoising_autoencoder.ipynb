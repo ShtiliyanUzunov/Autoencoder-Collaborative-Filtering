{
 "cells": [
  {
   "cell_type": "markdown",
   "id": "ba081119",
   "metadata": {},
   "source": [
    "# Dependencies"
   ]
  },
  {
   "cell_type": "code",
   "execution_count": 1,
   "id": "significant-stevens",
   "metadata": {},
   "outputs": [
    {
     "name": "stderr",
     "output_type": "stream",
     "text": [
      "C:\\ProgramData\\Anaconda3\\lib\\site-packages\\numpy\\_distributor_init.py:30: UserWarning: loaded more than 1 DLL from .libs:\n",
      "C:\\ProgramData\\Anaconda3\\lib\\site-packages\\numpy\\.libs\\libopenblas.GK7GX5KEQ4F6UYO3P26ULGBQYHGQO7J4.gfortran-win_amd64.dll\n",
      "C:\\ProgramData\\Anaconda3\\lib\\site-packages\\numpy\\.libs\\libopenblas.PYQHXLVVQ7VESDPUVUADXEVJOBGHJPAY.gfortran-win_amd64.dll\n",
      "  warnings.warn(\"loaded more than 1 DLL from .libs:\\n%s\" %\n"
     ]
    }
   ],
   "source": [
    "import torch\n",
    "import pandas as pd\n",
    "import numpy as np\n",
    "import random\n",
    "from sklearn.model_selection import train_test_split"
   ]
  },
  {
   "cell_type": "markdown",
   "id": "stuffed-metadata",
   "metadata": {},
   "source": [
    "# Dataset"
   ]
  },
  {
   "cell_type": "code",
   "execution_count": 2,
   "id": "5ce48042",
   "metadata": {},
   "outputs": [],
   "source": [
    "movies = pd.read_csv('ml-1m/movies.dat',sep='::',header=None,names=[\"MovieID\", \"Title\", \"Genres\"],engine='python')\n",
    "ratings = pd.read_csv('ml-1m/ratings.dat',sep='::',header=None,names=[\"UserID\", \"MovieID\", \"Rating\", \"Timestamp\"],engine='python')\n",
    "users = pd.read_csv('ml-1m/users.dat',sep='::',header=None,names=[\"UserID\", \"Gender\", \"Age\", \"Occupation\", \"Zip-code\"],engine='python')"
   ]
  },
  {
   "cell_type": "code",
   "execution_count": 3,
   "id": "371850af",
   "metadata": {},
   "outputs": [
    {
     "data": {
      "text/plain": "   MovieID                               Title                        Genres\n0        1                    Toy Story (1995)   Animation|Children's|Comedy\n1        2                      Jumanji (1995)  Adventure|Children's|Fantasy\n2        3             Grumpier Old Men (1995)                Comedy|Romance\n3        4            Waiting to Exhale (1995)                  Comedy|Drama\n4        5  Father of the Bride Part II (1995)                        Comedy",
      "text/html": "<div>\n<style scoped>\n    .dataframe tbody tr th:only-of-type {\n        vertical-align: middle;\n    }\n\n    .dataframe tbody tr th {\n        vertical-align: top;\n    }\n\n    .dataframe thead th {\n        text-align: right;\n    }\n</style>\n<table border=\"1\" class=\"dataframe\">\n  <thead>\n    <tr style=\"text-align: right;\">\n      <th></th>\n      <th>MovieID</th>\n      <th>Title</th>\n      <th>Genres</th>\n    </tr>\n  </thead>\n  <tbody>\n    <tr>\n      <th>0</th>\n      <td>1</td>\n      <td>Toy Story (1995)</td>\n      <td>Animation|Children's|Comedy</td>\n    </tr>\n    <tr>\n      <th>1</th>\n      <td>2</td>\n      <td>Jumanji (1995)</td>\n      <td>Adventure|Children's|Fantasy</td>\n    </tr>\n    <tr>\n      <th>2</th>\n      <td>3</td>\n      <td>Grumpier Old Men (1995)</td>\n      <td>Comedy|Romance</td>\n    </tr>\n    <tr>\n      <th>3</th>\n      <td>4</td>\n      <td>Waiting to Exhale (1995)</td>\n      <td>Comedy|Drama</td>\n    </tr>\n    <tr>\n      <th>4</th>\n      <td>5</td>\n      <td>Father of the Bride Part II (1995)</td>\n      <td>Comedy</td>\n    </tr>\n  </tbody>\n</table>\n</div>"
     },
     "execution_count": 3,
     "metadata": {},
     "output_type": "execute_result"
    }
   ],
   "source": [
    "movies.head()"
   ]
  },
  {
   "cell_type": "code",
   "execution_count": 4,
   "id": "e4df1ae6",
   "metadata": {},
   "outputs": [
    {
     "data": {
      "text/plain": "   UserID Gender  Age  Occupation Zip-code\n0       1      F    1          10    48067\n1       2      M   56          16    70072\n2       3      M   25          15    55117\n3       4      M   45           7    02460\n4       5      M   25          20    55455",
      "text/html": "<div>\n<style scoped>\n    .dataframe tbody tr th:only-of-type {\n        vertical-align: middle;\n    }\n\n    .dataframe tbody tr th {\n        vertical-align: top;\n    }\n\n    .dataframe thead th {\n        text-align: right;\n    }\n</style>\n<table border=\"1\" class=\"dataframe\">\n  <thead>\n    <tr style=\"text-align: right;\">\n      <th></th>\n      <th>UserID</th>\n      <th>Gender</th>\n      <th>Age</th>\n      <th>Occupation</th>\n      <th>Zip-code</th>\n    </tr>\n  </thead>\n  <tbody>\n    <tr>\n      <th>0</th>\n      <td>1</td>\n      <td>F</td>\n      <td>1</td>\n      <td>10</td>\n      <td>48067</td>\n    </tr>\n    <tr>\n      <th>1</th>\n      <td>2</td>\n      <td>M</td>\n      <td>56</td>\n      <td>16</td>\n      <td>70072</td>\n    </tr>\n    <tr>\n      <th>2</th>\n      <td>3</td>\n      <td>M</td>\n      <td>25</td>\n      <td>15</td>\n      <td>55117</td>\n    </tr>\n    <tr>\n      <th>3</th>\n      <td>4</td>\n      <td>M</td>\n      <td>45</td>\n      <td>7</td>\n      <td>02460</td>\n    </tr>\n    <tr>\n      <th>4</th>\n      <td>5</td>\n      <td>M</td>\n      <td>25</td>\n      <td>20</td>\n      <td>55455</td>\n    </tr>\n  </tbody>\n</table>\n</div>"
     },
     "execution_count": 4,
     "metadata": {},
     "output_type": "execute_result"
    }
   ],
   "source": [
    "users.head()"
   ]
  },
  {
   "cell_type": "code",
   "execution_count": 5,
   "id": "a785e1f9",
   "metadata": {},
   "outputs": [
    {
     "data": {
      "text/plain": "   UserID  MovieID  Rating  Timestamp\n0       1     1193       5  978300760\n1       1      661       3  978302109\n2       1      914       3  978301968\n3       1     3408       4  978300275\n4       1     2355       5  978824291",
      "text/html": "<div>\n<style scoped>\n    .dataframe tbody tr th:only-of-type {\n        vertical-align: middle;\n    }\n\n    .dataframe tbody tr th {\n        vertical-align: top;\n    }\n\n    .dataframe thead th {\n        text-align: right;\n    }\n</style>\n<table border=\"1\" class=\"dataframe\">\n  <thead>\n    <tr style=\"text-align: right;\">\n      <th></th>\n      <th>UserID</th>\n      <th>MovieID</th>\n      <th>Rating</th>\n      <th>Timestamp</th>\n    </tr>\n  </thead>\n  <tbody>\n    <tr>\n      <th>0</th>\n      <td>1</td>\n      <td>1193</td>\n      <td>5</td>\n      <td>978300760</td>\n    </tr>\n    <tr>\n      <th>1</th>\n      <td>1</td>\n      <td>661</td>\n      <td>3</td>\n      <td>978302109</td>\n    </tr>\n    <tr>\n      <th>2</th>\n      <td>1</td>\n      <td>914</td>\n      <td>3</td>\n      <td>978301968</td>\n    </tr>\n    <tr>\n      <th>3</th>\n      <td>1</td>\n      <td>3408</td>\n      <td>4</td>\n      <td>978300275</td>\n    </tr>\n    <tr>\n      <th>4</th>\n      <td>1</td>\n      <td>2355</td>\n      <td>5</td>\n      <td>978824291</td>\n    </tr>\n  </tbody>\n</table>\n</div>"
     },
     "execution_count": 5,
     "metadata": {},
     "output_type": "execute_result"
    }
   ],
   "source": [
    "ratings.head()"
   ]
  },
  {
   "cell_type": "code",
   "execution_count": 6,
   "id": "cbefd7d7",
   "metadata": {},
   "outputs": [
    {
     "data": {
      "text/plain": "((3883, 3), (1000209, 4), (6040, 5))"
     },
     "execution_count": 6,
     "metadata": {},
     "output_type": "execute_result"
    }
   ],
   "source": [
    "movies.shape, ratings.shape, users.shape"
   ]
  },
  {
   "cell_type": "code",
   "execution_count": 7,
   "id": "c1259e50",
   "metadata": {},
   "outputs": [
    {
     "data": {
      "text/plain": "        MovieID\nUserID         \n947          20\n4068         20\n2530         20\n341          20\n5258         20\n...         ...\n1181       1521\n1941       1595\n4277       1743\n1680       1850\n4169       2314\n\n[6040 rows x 1 columns]",
      "text/html": "<div>\n<style scoped>\n    .dataframe tbody tr th:only-of-type {\n        vertical-align: middle;\n    }\n\n    .dataframe tbody tr th {\n        vertical-align: top;\n    }\n\n    .dataframe thead th {\n        text-align: right;\n    }\n</style>\n<table border=\"1\" class=\"dataframe\">\n  <thead>\n    <tr style=\"text-align: right;\">\n      <th></th>\n      <th>MovieID</th>\n    </tr>\n    <tr>\n      <th>UserID</th>\n      <th></th>\n    </tr>\n  </thead>\n  <tbody>\n    <tr>\n      <th>947</th>\n      <td>20</td>\n    </tr>\n    <tr>\n      <th>4068</th>\n      <td>20</td>\n    </tr>\n    <tr>\n      <th>2530</th>\n      <td>20</td>\n    </tr>\n    <tr>\n      <th>341</th>\n      <td>20</td>\n    </tr>\n    <tr>\n      <th>5258</th>\n      <td>20</td>\n    </tr>\n    <tr>\n      <th>...</th>\n      <td>...</td>\n    </tr>\n    <tr>\n      <th>1181</th>\n      <td>1521</td>\n    </tr>\n    <tr>\n      <th>1941</th>\n      <td>1595</td>\n    </tr>\n    <tr>\n      <th>4277</th>\n      <td>1743</td>\n    </tr>\n    <tr>\n      <th>1680</th>\n      <td>1850</td>\n    </tr>\n    <tr>\n      <th>4169</th>\n      <td>2314</td>\n    </tr>\n  </tbody>\n</table>\n<p>6040 rows × 1 columns</p>\n</div>"
     },
     "execution_count": 7,
     "metadata": {},
     "output_type": "execute_result"
    }
   ],
   "source": [
    "ratings.groupby('UserID').count()[[\"MovieID\"]].sort_values(by=\"MovieID\")"
   ]
  },
  {
   "cell_type": "code",
   "execution_count": 8,
   "id": "6fc8ece8",
   "metadata": {},
   "outputs": [
    {
     "data": {
      "text/plain": "         UserID\nMovieID        \n402           1\n2214          1\n3382          1\n2217          1\n2218          1\n...         ...\n480        2672\n1210       2883\n1196       2990\n260        2991\n2858       3428\n\n[3706 rows x 1 columns]",
      "text/html": "<div>\n<style scoped>\n    .dataframe tbody tr th:only-of-type {\n        vertical-align: middle;\n    }\n\n    .dataframe tbody tr th {\n        vertical-align: top;\n    }\n\n    .dataframe thead th {\n        text-align: right;\n    }\n</style>\n<table border=\"1\" class=\"dataframe\">\n  <thead>\n    <tr style=\"text-align: right;\">\n      <th></th>\n      <th>UserID</th>\n    </tr>\n    <tr>\n      <th>MovieID</th>\n      <th></th>\n    </tr>\n  </thead>\n  <tbody>\n    <tr>\n      <th>402</th>\n      <td>1</td>\n    </tr>\n    <tr>\n      <th>2214</th>\n      <td>1</td>\n    </tr>\n    <tr>\n      <th>3382</th>\n      <td>1</td>\n    </tr>\n    <tr>\n      <th>2217</th>\n      <td>1</td>\n    </tr>\n    <tr>\n      <th>2218</th>\n      <td>1</td>\n    </tr>\n    <tr>\n      <th>...</th>\n      <td>...</td>\n    </tr>\n    <tr>\n      <th>480</th>\n      <td>2672</td>\n    </tr>\n    <tr>\n      <th>1210</th>\n      <td>2883</td>\n    </tr>\n    <tr>\n      <th>1196</th>\n      <td>2990</td>\n    </tr>\n    <tr>\n      <th>260</th>\n      <td>2991</td>\n    </tr>\n    <tr>\n      <th>2858</th>\n      <td>3428</td>\n    </tr>\n  </tbody>\n</table>\n<p>3706 rows × 1 columns</p>\n</div>"
     },
     "execution_count": 8,
     "metadata": {},
     "output_type": "execute_result"
    }
   ],
   "source": [
    "ratings.groupby('MovieID').count()[['UserID']].sort_values(by='UserID')"
   ]
  },
  {
   "cell_type": "code",
   "execution_count": 9,
   "id": "4f204b68",
   "metadata": {},
   "outputs": [
    {
     "data": {
      "text/plain": "   UserID  MovieID  Rating  Timestamp\n0       1     1193       5  978300760\n1       1      661       3  978302109\n2       1      914       3  978301968\n3       1     3408       4  978300275\n4       1     2355       5  978824291",
      "text/html": "<div>\n<style scoped>\n    .dataframe tbody tr th:only-of-type {\n        vertical-align: middle;\n    }\n\n    .dataframe tbody tr th {\n        vertical-align: top;\n    }\n\n    .dataframe thead th {\n        text-align: right;\n    }\n</style>\n<table border=\"1\" class=\"dataframe\">\n  <thead>\n    <tr style=\"text-align: right;\">\n      <th></th>\n      <th>UserID</th>\n      <th>MovieID</th>\n      <th>Rating</th>\n      <th>Timestamp</th>\n    </tr>\n  </thead>\n  <tbody>\n    <tr>\n      <th>0</th>\n      <td>1</td>\n      <td>1193</td>\n      <td>5</td>\n      <td>978300760</td>\n    </tr>\n    <tr>\n      <th>1</th>\n      <td>1</td>\n      <td>661</td>\n      <td>3</td>\n      <td>978302109</td>\n    </tr>\n    <tr>\n      <th>2</th>\n      <td>1</td>\n      <td>914</td>\n      <td>3</td>\n      <td>978301968</td>\n    </tr>\n    <tr>\n      <th>3</th>\n      <td>1</td>\n      <td>3408</td>\n      <td>4</td>\n      <td>978300275</td>\n    </tr>\n    <tr>\n      <th>4</th>\n      <td>1</td>\n      <td>2355</td>\n      <td>5</td>\n      <td>978824291</td>\n    </tr>\n  </tbody>\n</table>\n</div>"
     },
     "execution_count": 9,
     "metadata": {},
     "output_type": "execute_result"
    }
   ],
   "source": [
    "ratings.head()"
   ]
  },
  {
   "cell_type": "code",
   "execution_count": 10,
   "id": "7e131fb3",
   "metadata": {},
   "outputs": [
    {
     "data": {
      "text/plain": "6040"
     },
     "execution_count": 10,
     "metadata": {},
     "output_type": "execute_result"
    }
   ],
   "source": [
    "ratings['UserID'].nunique()"
   ]
  },
  {
   "cell_type": "code",
   "execution_count": 11,
   "id": "0cc9f635",
   "metadata": {},
   "outputs": [
    {
     "data": {
      "text/plain": "6040"
     },
     "execution_count": 11,
     "metadata": {},
     "output_type": "execute_result"
    }
   ],
   "source": [
    "ratings['UserID'].max()"
   ]
  },
  {
   "cell_type": "code",
   "execution_count": 12,
   "id": "1ca06e14",
   "metadata": {},
   "outputs": [
    {
     "data": {
      "text/plain": "3706"
     },
     "execution_count": 12,
     "metadata": {},
     "output_type": "execute_result"
    }
   ],
   "source": [
    "ratings['MovieID'].nunique()"
   ]
  },
  {
   "cell_type": "code",
   "execution_count": 13,
   "id": "5b10e553",
   "metadata": {},
   "outputs": [
    {
     "data": {
      "text/plain": "3952"
     },
     "execution_count": 13,
     "metadata": {},
     "output_type": "execute_result"
    }
   ],
   "source": [
    "ratings['MovieID'].max()"
   ]
  },
  {
   "cell_type": "code",
   "execution_count": 14,
   "id": "66cd293b",
   "metadata": {},
   "outputs": [
    {
     "data": {
      "text/plain": "3952"
     },
     "execution_count": 14,
     "metadata": {},
     "output_type": "execute_result"
    }
   ],
   "source": [
    "movies['MovieID'].max()"
   ]
  },
  {
   "cell_type": "code",
   "execution_count": 15,
   "id": "e6021e15",
   "metadata": {},
   "outputs": [
    {
     "data": {
      "text/plain": "3883"
     },
     "execution_count": 15,
     "metadata": {},
     "output_type": "execute_result"
    }
   ],
   "source": [
    "movies['MovieID'].nunique()"
   ]
  },
  {
   "cell_type": "code",
   "execution_count": 16,
   "id": "1dd657da",
   "metadata": {},
   "outputs": [],
   "source": [
    "USERS_CNT = ratings['UserID'].max()\n",
    "ITEMS_CNT = ratings['MovieID'].max()"
   ]
  },
  {
   "cell_type": "code",
   "execution_count": 17,
   "id": "sitting-chosen",
   "metadata": {},
   "outputs": [],
   "source": [
    "train_ratings, test_ratings = train_test_split(ratings, test_size=0.1)"
   ]
  },
  {
   "cell_type": "code",
   "execution_count": 18,
   "id": "60de34de",
   "metadata": {},
   "outputs": [
    {
     "data": {
      "text/plain": "((900188, 4), (100021, 4))"
     },
     "execution_count": 18,
     "metadata": {},
     "output_type": "execute_result"
    }
   ],
   "source": [
    "train_ratings.shape, test_ratings.shape"
   ]
  },
  {
   "cell_type": "code",
   "execution_count": 19,
   "id": "26849437",
   "metadata": {},
   "outputs": [],
   "source": [
    "def generate_sparse_matrix(dataset):\n",
    "\n",
    "    items = np.zeros(shape = (ITEMS_CNT, USERS_CNT), dtype = np.float32)\n",
    "\n",
    "    for index, row in dataset.iterrows():\n",
    "        items[int(row['MovieID'] - 1), int(row['UserID'] - 1)] = row['Rating']\n",
    "\n",
    "    return items"
   ]
  },
  {
   "cell_type": "code",
   "execution_count": 20,
   "id": "imperial-dressing",
   "metadata": {},
   "outputs": [],
   "source": [
    "train_sparse_matrix = generate_sparse_matrix(train_ratings)\n",
    "test_sparse_matrix = generate_sparse_matrix(test_ratings)"
   ]
  },
  {
   "cell_type": "code",
   "execution_count": 22,
   "id": "suitable-sessions",
   "metadata": {},
   "outputs": [
    {
     "name": "stdout",
     "output_type": "stream",
     "text": [
      "Train Sparse Matrix:  (3952, 6040)\n",
      "Test Sparse Matrix:  (3952, 6040)\n"
     ]
    }
   ],
   "source": [
    "print(\"Train Sparse Matrix: \", train_sparse_matrix.shape)\n",
    "print(\"Test Sparse Matrix: \", test_sparse_matrix.shape)"
   ]
  },
  {
   "cell_type": "code",
   "execution_count": 23,
   "id": "8ec64200",
   "metadata": {},
   "outputs": [],
   "source": [
    "MASK_RATIO = 0.25"
   ]
  },
  {
   "cell_type": "code",
   "execution_count": 24,
   "id": "b37eda5f",
   "metadata": {},
   "outputs": [],
   "source": [
    "from torch.utils.data import Dataset\n",
    "\n",
    "class RatingsDataset(Dataset):\n",
    "    \n",
    "    def __init__(self, ratings):\n",
    "        self.ratings = ratings.copy()\n",
    "        self.known_indices = self.get_known_indices()\n",
    "        self.normalize()\n",
    "        self.subtract_mean()\n",
    "        \n",
    "        self.masked_ratings, self.masked_indices = self.mask_ratings()\n",
    "        \n",
    "        \n",
    "    def __len__(self):\n",
    "        return len(self.ratings)\n",
    "    \n",
    "    def __getitem__(self, index):\n",
    "        \n",
    "        result = {\n",
    "            'inp': torch.from_numpy(np.array(self.masked_ratings[index])).float(), \n",
    "            'out': torch.from_numpy(np.array(self.ratings[index])).float(),\n",
    "            'known_indices': self.known_indices[index],\n",
    "            'masked_indices': self.masked_indices[index]\n",
    "        }\n",
    "        \n",
    "        return result\n",
    "        \n",
    "    \n",
    "    def get_known_indices(self):\n",
    "        known_indices = np.zeros(shape = self.ratings.shape)\n",
    "\n",
    "        for idx, rating in enumerate(self.ratings):\n",
    "            known = np.where(rating > 0)[0]\n",
    "            known_indices[idx][known] = 1\n",
    "            \n",
    "        return known_indices\n",
    "        \n",
    "    \n",
    "    # normalize between -1 and 1\n",
    "    def normalize(self):\n",
    "        \n",
    "        for idx, rating in enumerate(self.ratings):\n",
    "            known = np.where(self.known_indices[idx] == 1)[0]\n",
    "            \n",
    "            if len(known) > 0:\n",
    "                rating[known] -= 3\n",
    "                rating[known] /= 2\n",
    "    \n",
    "    def subtract_mean(self):\n",
    "        \n",
    "        for idx, rating in enumerate(self.ratings):\n",
    "            known = np.where(self.known_indices[idx] == 1)[0]\n",
    "\n",
    "            if len(known) > 0:\n",
    "                mean = rating[known].mean()\n",
    "                rating[known] -= mean\n",
    "                \n",
    "    def mask_ratings(self):\n",
    "    \n",
    "        masked_ratings = self.ratings.copy()\n",
    "        masked_indices = np.zeros(shape = self.ratings.shape)\n",
    "                \n",
    "        for idx, rating in enumerate(masked_ratings):\n",
    "            \n",
    "            known = np.where(self.known_indices[idx] == 1)[0].tolist()\n",
    "            known_cnt = len(known)\n",
    "            masked_cnt = int(MASK_RATIO * known_cnt)\n",
    "            masked = random.sample(known, masked_cnt)\n",
    "            rating[masked] = 0\n",
    "                        \n",
    "            masked_indices[idx][masked] = 1\n",
    "            \n",
    "            \n",
    "        return masked_ratings, masked_indices"
   ]
  },
  {
   "cell_type": "code",
   "execution_count": 25,
   "id": "49bdd0fe",
   "metadata": {},
   "outputs": [
    {
     "name": "stdout",
     "output_type": "stream",
     "text": [
      "Input:  tensor([0.4289, 0.0000, 0.0000,  ..., 0.0000, 0.0000, 0.0000]) Input Length:  6040\n",
      "Output:  tensor([ 0.4289,  0.0000,  0.0000,  ...,  0.0000,  0.0000, -0.5711]) Output Length:  6040\n",
      "Input:  tensor([0., 0., 0.,  ..., 0., 0., 0.]) Input Length:  6040\n",
      "Output:  tensor([0., 0., 0.,  ..., 0., 0., 0.]) Output Length:  6040\n"
     ]
    }
   ],
   "source": [
    "train_dataset = RatingsDataset(train_sparse_matrix)\n",
    "print(\"Input: \", train_dataset[0]['inp'], \"Input Length: \", len(train_dataset[0]['inp']))\n",
    "print(\"Output: \", train_dataset[0]['out'], \"Output Length: \", len(train_dataset[0]['out']))\n",
    "\n",
    "test_dataset = RatingsDataset(test_sparse_matrix)\n",
    "print(\"Input: \", test_dataset[0]['inp'], \"Input Length: \", len(test_dataset[0]['inp']))\n",
    "print(\"Output: \", test_dataset[0]['out'], \"Output Length: \", len(test_dataset[0]['out']))"
   ]
  },
  {
   "cell_type": "code",
   "execution_count": 26,
   "id": "d2e179e8",
   "metadata": {},
   "outputs": [
    {
     "name": "stdout",
     "output_type": "stream",
     "text": [
      "{'inp': tensor([0., 0., 0.,  ..., 0., 0., 0.]), 'out': tensor([0., 0., 0.,  ..., 0., 0., 0.]), 'known_indices': array([0., 0., 0., ..., 0., 0., 0.]), 'masked_indices': array([0., 0., 0., ..., 0., 0., 0.])}\n"
     ]
    }
   ],
   "source": [
    "print(train_dataset[1])"
   ]
  },
  {
   "cell_type": "code",
   "execution_count": 27,
   "id": "8c0d3f2a",
   "metadata": {},
   "outputs": [
    {
     "data": {
      "text/plain": "626"
     },
     "execution_count": 27,
     "metadata": {},
     "output_type": "execute_result"
    }
   ],
   "source": [
    "len(np.where(train_dataset[1]['known_indices'] == 1)[0])"
   ]
  },
  {
   "cell_type": "code",
   "execution_count": 28,
   "id": "4feee21f",
   "metadata": {},
   "outputs": [
    {
     "data": {
      "text/plain": "156"
     },
     "execution_count": 28,
     "metadata": {},
     "output_type": "execute_result"
    }
   ],
   "source": [
    "len(np.where(train_dataset[1]['masked_indices'] == 1)[0])"
   ]
  },
  {
   "cell_type": "code",
   "execution_count": 29,
   "id": "6b1332cb",
   "metadata": {},
   "outputs": [
    {
     "data": {
      "text/plain": "(array([   9,   12,   17,   22,   26,   39,   43,   47,   52,   59,   61,\n          74,   91,  113,  118,  126,  135,  146,  147,  148,  156,  162,\n         194,  197,  203,  221,  222,  228,  244,  261,  263,  269,  270,\n         271,  283,  292,  300,  301,  307,  309,  320,  322,  328,  336,\n         354,  365,  367,  402,  412,  423,  428,  430,  435,  437,  448,\n         473,  474,  475,  508,  519,  530,  532,  540,  548,  562,  570,\n         600,  628,  633,  661,  668,  677,  691,  694,  698,  709,  712,\n         713,  719,  720,  730,  745,  756,  764,  776,  779,  797,  809,\n         816,  868,  876,  879,  889,  892,  910,  924,  954,  970,  983,\n        1003, 1014, 1031, 1041, 1049, 1050, 1057, 1079, 1086, 1095, 1099,\n        1100, 1108, 1111, 1114, 1118, 1124, 1140, 1151, 1167, 1175, 1180,\n        1201, 1202, 1206, 1219, 1229, 1245, 1263, 1264, 1270, 1300, 1302,\n        1313, 1316, 1329, 1332, 1338, 1347, 1368, 1370, 1376, 1379, 1388,\n        1391, 1394, 1402, 1420, 1421, 1425, 1446, 1447, 1463, 1494, 1495,\n        1500, 1501, 1528, 1529, 1542, 1585, 1591, 1598, 1599, 1605, 1610,\n        1613, 1634, 1636, 1640, 1644, 1648, 1654, 1665, 1674, 1675, 1679,\n        1688, 1692, 1693, 1715, 1725, 1732, 1736, 1745, 1756, 1760, 1763,\n        1775, 1780, 1817, 1836, 1840, 1853, 1860, 1878, 1879, 1883, 1890,\n        1898, 1900, 1903, 1919, 1921, 1930, 1940, 1942, 1955, 1957, 1963,\n        1968, 1979, 1982, 1987, 1995, 2002, 2011, 2014, 2053, 2062, 2076,\n        2087, 2105, 2108, 2115, 2118, 2119, 2123, 2135, 2151, 2156, 2179,\n        2180, 2187, 2191, 2194, 2202, 2222, 2241, 2250, 2257, 2262, 2264,\n        2273, 2303, 2307, 2318, 2410, 2423, 2443, 2453, 2460, 2469, 2478,\n        2488, 2491, 2509, 2518, 2528, 2539, 2550, 2557, 2564, 2565, 2575,\n        2582, 2594, 2623, 2637, 2663, 2664, 2674, 2726, 2741, 2742, 2776,\n        2803, 2809, 2844, 2847, 2856, 2875, 2886, 2887, 2906, 2908, 2917,\n        2925, 2938, 2961, 2965, 2975, 2984, 2988, 2994, 2996, 2998, 3023,\n        3028, 3031, 3055, 3066, 3079, 3080, 3081, 3086, 3092, 3100, 3107,\n        3109, 3120, 3127, 3139, 3140, 3146, 3154, 3157, 3162, 3188, 3195,\n        3201, 3204, 3223, 3227, 3258, 3271, 3291, 3299, 3307, 3311, 3319,\n        3335, 3366, 3369, 3388, 3390, 3400, 3413, 3433, 3457, 3461, 3470,\n        3482, 3490, 3500, 3502, 3506, 3508, 3510, 3511, 3521, 3538, 3539,\n        3554, 3555, 3564, 3568, 3575, 3577, 3581, 3589, 3590, 3608, 3609,\n        3619, 3623, 3625, 3647, 3649, 3654, 3674, 3675, 3686, 3688, 3690,\n        3691, 3692, 3696, 3697, 3710, 3711, 3714, 3755, 3759, 3770, 3772,\n        3773, 3776, 3777, 3791, 3806, 3807, 3818, 3819, 3820, 3833, 3840,\n        3841, 3852, 3883, 3933, 3945, 3950, 3957, 3970, 3989, 3991, 3993,\n        3996, 3998, 3999, 4005, 4012, 4015, 4019, 4020, 4032, 4040, 4041,\n        4047, 4057, 4084, 4085, 4087, 4088, 4095, 4111, 4114, 4122, 4123,\n        4126, 4130, 4139, 4140, 4149, 4152, 4168, 4182, 4185, 4206, 4221,\n        4226, 4233, 4237, 4261, 4270, 4276, 4278, 4284, 4311, 4317, 4321,\n        4332, 4335, 4343, 4344, 4351, 4353, 4358, 4359, 4362, 4383, 4385,\n        4387, 4389, 4445, 4446, 4447, 4471, 4481, 4489, 4496, 4497, 4501,\n        4507, 4509, 4523, 4540, 4566, 4571, 4584, 4590, 4599, 4600, 4609,\n        4632, 4639, 4655, 4657, 4665, 4686, 4696, 4703, 4718, 4724, 4725,\n        4732, 4735, 4785, 4787, 4795, 4807, 4809, 4818, 4823, 4829, 4833,\n        4854, 4866, 4887, 4896, 4901, 4907, 4952, 4956, 4957, 4964, 4974,\n        4978, 4999, 5000, 5010, 5025, 5029, 5045, 5062, 5073, 5099, 5107,\n        5111, 5130, 5135, 5141, 5150, 5166, 5171, 5199, 5217, 5221, 5229,\n        5231, 5243, 5249, 5267, 5276, 5277, 5286, 5301, 5305, 5311, 5318,\n        5320, 5321, 5350, 5358, 5360, 5364, 5366, 5400, 5407, 5419, 5432,\n        5440, 5451, 5454, 5470, 5491, 5492, 5503, 5505, 5510, 5522, 5529,\n        5535, 5542, 5549, 5554, 5557, 5567, 5569, 5579, 5603, 5604, 5613,\n        5614, 5618, 5619, 5626, 5633, 5642, 5656, 5662, 5681, 5688, 5690,\n        5697, 5704, 5719, 5750, 5761, 5762, 5793, 5794, 5811, 5830, 5836,\n        5847, 5853, 5856, 5874, 5885, 5907, 5916, 5924, 5930, 5937, 5955,\n        5960, 5963, 5977, 5988, 5995, 5999, 6000, 6005, 6018, 6029],\n       dtype=int64),)"
     },
     "execution_count": 29,
     "metadata": {},
     "output_type": "execute_result"
    }
   ],
   "source": [
    "np.where(train_dataset[1]['known_indices'] == 1)"
   ]
  },
  {
   "cell_type": "code",
   "execution_count": 30,
   "id": "4922dcf5",
   "metadata": {},
   "outputs": [
    {
     "data": {
      "text/plain": "(array([   9,   22,   52,  113,  126,  148,  156,  162,  197,  261,  269,\n         328,  336,  475,  530,  548,  562,  600,  633,  691,  720,  730,\n         764,  809,  816,  876,  924,  954,  983, 1095, 1099, 1100, 1124,\n        1151, 1167, 1202, 1245, 1302, 1391, 1605, 1640, 1688, 1763, 1840,\n        1930, 1942, 1968, 1979, 1982, 1995, 2062, 2087, 2156, 2250, 2318,\n        2410, 2488, 2539, 2582, 2674, 2741, 2742, 2776, 2847, 2886, 2906,\n        2908, 2925, 2938, 2961, 2965, 2998, 3031, 3079, 3092, 3100, 3127,\n        3140, 3157, 3162, 3195, 3223, 3258, 3271, 3291, 3390, 3433, 3500,\n        3502, 3508, 3511, 3538, 3577, 3581, 3609, 3649, 3697, 3710, 3714,\n        3806, 3807, 3818, 3820, 3950, 3970, 3993, 3998, 4005, 4041, 4047,\n        4085, 4111, 4140, 4152, 4221, 4226, 4237, 4278, 4317, 4343, 4344,\n        4489, 4509, 4566, 4632, 4665, 4686, 4818, 4901, 4956, 4974, 5000,\n        5010, 5111, 5221, 5229, 5231, 5301, 5400, 5407, 5451, 5492, 5535,\n        5569, 5613, 5626, 5688, 5719, 5762, 5830, 5885, 5930, 5937, 5955,\n        5988, 5999], dtype=int64),)"
     },
     "execution_count": 30,
     "metadata": {},
     "output_type": "execute_result"
    }
   ],
   "source": [
    "np.where(train_dataset[1]['masked_indices'] == 1)"
   ]
  },
  {
   "cell_type": "code",
   "execution_count": 31,
   "id": "c53c6616",
   "metadata": {},
   "outputs": [
    {
     "data": {
      "text/plain": "tensor(-0.6062)"
     },
     "execution_count": 31,
     "metadata": {},
     "output_type": "execute_result"
    }
   ],
   "source": [
    "train_dataset[1]['inp'][17]"
   ]
  },
  {
   "cell_type": "code",
   "execution_count": 32,
   "id": "053dab47",
   "metadata": {},
   "outputs": [
    {
     "data": {
      "text/plain": "tensor(0.3938)"
     },
     "execution_count": 32,
     "metadata": {},
     "output_type": "execute_result"
    }
   ],
   "source": [
    "train_dataset[1]['inp'][5853]"
   ]
  },
  {
   "cell_type": "code",
   "execution_count": 33,
   "id": "5316a575",
   "metadata": {},
   "outputs": [
    {
     "data": {
      "text/plain": "tensor(-0.6062)"
     },
     "execution_count": 33,
     "metadata": {},
     "output_type": "execute_result"
    }
   ],
   "source": [
    "train_dataset[1]['out'][17]"
   ]
  },
  {
   "cell_type": "code",
   "execution_count": 34,
   "id": "9a39e3bd",
   "metadata": {},
   "outputs": [
    {
     "data": {
      "text/plain": "tensor(0.3938)"
     },
     "execution_count": 34,
     "metadata": {},
     "output_type": "execute_result"
    }
   ],
   "source": [
    "train_dataset[1]['out'][5853]"
   ]
  },
  {
   "cell_type": "markdown",
   "id": "processed-style",
   "metadata": {},
   "source": [
    "# Network"
   ]
  },
  {
   "cell_type": "code",
   "execution_count": 35,
   "id": "first-mozambique",
   "metadata": {},
   "outputs": [
    {
     "name": "stdout",
     "output_type": "stream",
     "text": [
      "Denoising_Model(\n",
      "  (encoder): Sequential(\n",
      "    (0): Linear(in_features=6040, out_features=770, bias=True)\n",
      "    (1): Tanh()\n",
      "  )\n",
      "  (decoder): Sequential(\n",
      "    (0): Linear(in_features=770, out_features=6040, bias=True)\n",
      "    (1): Tanh()\n",
      "  )\n",
      ")\n"
     ]
    }
   ],
   "source": [
    "import torch.nn as nn\n",
    "\n",
    "\n",
    "inputSize = 6040\n",
    "class Denoising_Model(nn.Module):\n",
    "    def __init__(self):\n",
    "        super(Denoising_Model,self).__init__()\n",
    "        self.encoder=nn.Sequential(\n",
    "                      #nn.BatchNorm1d(6040),\n",
    "                      nn.Linear(inputSize, 770),  # There are 6040 users in movieLens-1M\n",
    "                      nn.Tanh()\n",
    "                      )\n",
    "\n",
    "        self.decoder=nn.Sequential(\n",
    "                      #nn.BatchNorm1d(770),\n",
    "                      nn.Linear(770, inputSize),\n",
    "                      nn.Tanh()\n",
    "                      )\n",
    "\n",
    "\n",
    "    def forward(self,x):\n",
    "        x=self.encoder(x)\n",
    "        x=self.decoder(x)\n",
    "        return x\n",
    "    \n",
    "network = Denoising_Model()\n",
    "print(network)"
   ]
  },
  {
   "cell_type": "code",
   "execution_count": 36,
   "id": "25373092",
   "metadata": {},
   "outputs": [],
   "source": [
    "ALPHA = 1\n",
    "BETA = 0.5"
   ]
  },
  {
   "cell_type": "code",
   "execution_count": 37,
   "id": "b4d39a7d",
   "metadata": {},
   "outputs": [],
   "source": [
    "def denosingLoss(output, target, known, masked):\n",
    "\n",
    "    loss = 0\n",
    "        \n",
    "    for idx, out in enumerate(output):\n",
    "        known_idx = np.where(known[idx] == 1)[0]\n",
    "        masked_idx = np.where(masked[idx] == 1)[0]\n",
    "        not_masked_idx = list(set(known_idx) - set(masked_idx))\n",
    "        \n",
    "        masked_output = output[idx][masked_idx]\n",
    "        masked_target = target[idx][masked_idx]\n",
    "        \n",
    "        not_masked_output = output[idx][not_masked_idx]\n",
    "        not_masked_target = target[idx][not_masked_idx]\n",
    "\n",
    "        if len(masked_idx) > 0:\n",
    "            loss += ALPHA * torch.sum(torch.square(torch.sub(masked_output, masked_target))) \n",
    "            \n",
    "        if len(not_masked_idx) > 0:\n",
    "            loss += BETA * torch.sum(torch.square(torch.sub(not_masked_output, not_masked_target)))\n",
    "        \n",
    "    return loss "
   ]
  },
  {
   "cell_type": "code",
   "execution_count": 38,
   "id": "frozen-grove",
   "metadata": {},
   "outputs": [
    {
     "name": "stdout",
     "output_type": "stream",
     "text": [
      "3952\n"
     ]
    }
   ],
   "source": [
    "print(len(train_dataset))"
   ]
  },
  {
   "cell_type": "code",
   "execution_count": 39,
   "id": "230b9723",
   "metadata": {},
   "outputs": [],
   "source": [
    "def init_weights(m):\n",
    "    if type(m) == nn.Linear:\n",
    "        torch.nn.init.xavier_uniform_(m.weight)\n",
    "        m.bias.data.fill_(0)"
   ]
  },
  {
   "cell_type": "code",
   "execution_count": 40,
   "id": "familiar-berlin",
   "metadata": {},
   "outputs": [],
   "source": [
    "def train(model, inp, target, optimizer, known, masked):   \n",
    "#     masked_ratings,target=masked_ratings.to(device),target.to(device)\n",
    "    \n",
    "    # Forward Pass\n",
    "    output = model(inp)\n",
    "    loss = denosingLoss(output, target, known, masked)\n",
    "        \n",
    "    #Backward Pass---------------------\n",
    "    optimizer.zero_grad()\n",
    "    loss.backward()\n",
    "    optimizer.step()\n",
    "   # scheduler.step()\n",
    "\n",
    "    return loss, output\n"
   ]
  },
  {
   "cell_type": "code",
   "execution_count": 42,
   "id": "77d47c6d",
   "metadata": {},
   "outputs": [
    {
     "name": "stdout",
     "output_type": "stream",
     "text": [
      "Epoch 1 Loss : 106.9705581665039\n",
      "Epoch 2 Loss : 103.97200012207031\n",
      "Epoch 3 Loss : 98.64114379882812\n",
      "Epoch 4 Loss : 95.55217742919922\n",
      "Epoch 5 Loss : 93.20600128173828\n",
      "Epoch 6 Loss : 91.5093765258789\n",
      "Epoch 7 Loss : 90.0951156616211\n",
      "Epoch 8 Loss : 88.74757385253906\n",
      "Epoch 9 Loss : 87.6395263671875\n",
      "Epoch 10 Loss : 86.55996704101562\n",
      "Epoch 11 Loss : 85.7756576538086\n",
      "Epoch 12 Loss : 85.02269744873047\n",
      "Epoch 13 Loss : 84.36695861816406\n",
      "Epoch 14 Loss : 83.59457397460938\n",
      "Epoch 15 Loss : 83.2055435180664\n",
      "Epoch 16 Loss : 82.6905517578125\n",
      "Epoch 17 Loss : 82.09183502197266\n",
      "Epoch 18 Loss : 81.7367935180664\n",
      "Epoch 19 Loss : 81.39216613769531\n",
      "Epoch 20 Loss : 81.13054656982422\n",
      "Epoch 21 Loss : 80.73898315429688\n",
      "Epoch 22 Loss : 80.50210571289062\n",
      "Epoch 23 Loss : 80.28089141845703\n",
      "Epoch 24 Loss : 80.04816436767578\n",
      "Epoch 25 Loss : 79.84832763671875\n",
      "Epoch 26 Loss : 79.61077117919922\n",
      "Epoch 27 Loss : 79.36669158935547\n",
      "Epoch 28 Loss : 79.15909576416016\n",
      "Epoch 29 Loss : 78.98438262939453\n",
      "Epoch 30 Loss : 78.83616638183594\n"
     ]
    }
   ],
   "source": [
    "from torch.optim import Adam\n",
    "from torch.optim import lr_scheduler\n",
    "from torch.utils.data import DataLoader\n",
    "from tqdm import tqdm\n",
    "from torch import optim\n",
    "from torch.utils.data import DataLoader\n",
    "\n",
    "# if torch.cuda.is_available() == True:\n",
    "#     device=\"cuda:0\"\n",
    "# else:\n",
    "device =\"cpu\"\n",
    "\n",
    "EPOCHS = 30\n",
    "BATCH_SIZE = 35\n",
    "\n",
    "train_loader = DataLoader(dataset = train_dataset, batch_size = BATCH_SIZE, shuffle = True)\n",
    "model = Denoising_Model().to(device)\n",
    "init_weights(model)\n",
    "\n",
    "#criterion = nn.MSELoss()\n",
    "#optimizer=Adam(model.parameters(),lr=0.01)\n",
    "optimizer = optim.SGD(model.parameters(), lr = 0.03, weight_decay = 0.01)\n",
    "#exp_lr_scheduler = lr_scheduler.StepLR(optimizer, step_size = 1, gamma = 0.3)\n",
    "\n",
    "epoch_loss = []\n",
    "\n",
    "for epoch in range(EPOCHS): \n",
    "    acc_epoch_loss = 0\n",
    "    \n",
    "    for bidx, batch in enumerate(train_loader):\n",
    "        \n",
    "        x_train = batch['inp']\n",
    "        y_train = batch['out']\n",
    "        known = batch['known_indices']\n",
    "        masked = batch['masked_indices']\n",
    "        \n",
    "        loss, predictions = train(model, x_train, y_train, optimizer, known, masked)\n",
    "        acc_epoch_loss += loss\n",
    "    \n",
    "    epoch_loss.append(acc_epoch_loss / len(train_dataset))  \n",
    "    \n",
    "    print('Epoch {} Loss : {}'.format((epoch+1), epoch_loss[epoch] ))\n",
    "    \n"
   ]
  },
  {
   "cell_type": "code",
   "execution_count": 43,
   "id": "807f8296",
   "metadata": {},
   "outputs": [],
   "source": [
    "test_batch = []\n",
    "train_batch = []\n",
    "known_batch = []\n",
    "batch_size = 35\n",
    "minibatches = []\n",
    "\n",
    "for idx, test in enumerate(test_dataset):\n",
    "    known_ratings_cnt = len(np.where(test['known_indices'] == 1)[0])\n",
    "    \n",
    "    if known_ratings_cnt > 0:\n",
    "\n",
    "        train_batch.append(train_dataset[idx]['out'])\n",
    "        known_batch.append(torch.tensor(test['known_indices']))\n",
    "        test_batch.append(test['out'])\n",
    "        \n",
    "    if len(test_batch) >= batch_size:\n",
    "        minibatches.append((torch.stack(train_batch), torch.stack(test_batch), torch.stack(known_batch)))\n",
    "        test_batch.clear()\n",
    "        train_batch.clear()\n",
    "        known_batch.clear()\n",
    "        \n",
    "if len(test_batch) > 0:\n",
    "    minibatches.append((torch.stack(train_batch), torch.stack(test_batch), torch.stack(known_batch)))\n",
    "    test_batch.clear()\n",
    "    train_batch.clear()\n",
    "    known_batch.clear()       "
   ]
  },
  {
   "cell_type": "code",
   "execution_count": 44,
   "id": "495fee59",
   "metadata": {
    "pycharm": {
     "name": "#%%\n"
    }
   },
   "outputs": [],
   "source": [
    "def denormalize(arr):\n",
    "    arr = np.array(arr)\n",
    "\n",
    "    target_from = 1\n",
    "    target_to = 5\n",
    "\n",
    "    arr_min = min(arr)\n",
    "    arr_max = max(arr)\n",
    "\n",
    "    area_length = arr_max - arr_min\n",
    "    scale_coef = ( target_to - target_from ) / area_length\n",
    "\n",
    "    arr *= scale_coef\n",
    "    arr += target_from - arr.min()\n",
    "\n",
    "    return arr\n"
   ]
  },
  {
   "cell_type": "code",
   "execution_count": 48,
   "id": "4190ff70",
   "metadata": {},
   "outputs": [
    {
     "name": "stdout",
     "output_type": "stream",
     "text": [
      "0.9143430251864957\n"
     ]
    }
   ],
   "source": [
    "\n",
    "from sklearn.metrics import mean_squared_error\n",
    "from math import sqrt\n",
    "\n",
    "from torch.nn import MSELoss\n",
    "\n",
    "\n",
    "def test():\n",
    "    y_true_buffer = []\n",
    "    y_pred_buffer = []\n",
    "\n",
    "    with torch.no_grad():\n",
    "        for bidx, batch in enumerate(minibatches):\n",
    "                train_batch = batch[0]\n",
    "                test_batch = batch[1]\n",
    "                known_batch = batch[2]\n",
    "                y_predictions = model(train_batch)\n",
    "\n",
    "                for idx, test in enumerate(test_batch):\n",
    "                    y_true = test[np.where(known_batch[idx].numpy() == 1)[0]]\n",
    "                    y_pred = y_predictions[idx][np.where(known_batch[idx].numpy() == 1)[0]]\n",
    "\n",
    "                    y_true_buffer += y_true.numpy().tolist()\n",
    "                    y_pred_buffer += y_pred.numpy().tolist()\n",
    "\n",
    "\n",
    "    #y_true_buffer = denormalize(y_true_buffer)\n",
    "    #y_pred_buffer = denormalize(y_pred_buffer)\n",
    "\n",
    "    mse = mean_squared_error(y_true_buffer, y_pred_buffer)\n",
    "    rmse = sqrt(mse)\n",
    "    print(rmse)\n",
    "\n",
    "    \n",
    "test()\n"
   ]
  }
 ],
 "metadata": {
  "kernelspec": {
   "display_name": "Python 3",
   "language": "python",
   "name": "python3"
  },
  "language_info": {
   "codemirror_mode": {
    "name": "ipython",
    "version": 3
   },
   "file_extension": ".py",
   "mimetype": "text/x-python",
   "name": "python",
   "nbconvert_exporter": "python",
   "pygments_lexer": "ipython3",
   "version": "3.8.0"
  }
 },
 "nbformat": 4,
 "nbformat_minor": 5
}