{
 "cells": [
  {
   "cell_type": "markdown",
   "id": "ba081119",
   "metadata": {},
   "source": [
    "# Dependencies"
   ]
  },
  {
   "cell_type": "code",
   "execution_count": 32,
   "id": "significant-stevens",
   "metadata": {},
   "outputs": [],
   "source": [
    "import torch\n",
    "import pandas as pd\n",
    "import numpy as np\n",
    "import random\n",
    "from sklearn.model_selection import train_test_split"
   ]
  },
  {
   "cell_type": "markdown",
   "id": "stuffed-metadata",
   "metadata": {},
   "source": [
    "# Dataset"
   ]
  },
  {
   "cell_type": "code",
   "execution_count": 33,
   "id": "8ec64200",
   "metadata": {},
   "outputs": [],
   "source": [
    "MASK_RATIO = 0.25"
   ]
  },
  {
   "cell_type": "code",
   "execution_count": 34,
   "id": "5ce48042",
   "metadata": {},
   "outputs": [],
   "source": [
    "movies = pd.read_csv('ml-1m/movies.dat',sep='::',header=None,names=[\"MovieID\", \"Title\", \"Genres\"],engine='python')\n",
    "ratings = pd.read_csv('ml-1m/ratings.dat',sep='::',header=None,names=[\"UserID\", \"MovieID\", \"Rating\", \"Timestamp\"],engine='python')\n",
    "users = pd.read_csv('ml-1m/users.dat',sep='::',header=None,names=[\"UserID\", \"Gender\", \"Age\", \"Occupation\", \"Zip-code\"],engine='python')"
   ]
  },
  {
   "cell_type": "code",
   "execution_count": 35,
   "id": "371850af",
   "metadata": {},
   "outputs": [
    {
     "data": {
      "text/html": [
       "<div>\n",
       "<style scoped>\n",
       "    .dataframe tbody tr th:only-of-type {\n",
       "        vertical-align: middle;\n",
       "    }\n",
       "\n",
       "    .dataframe tbody tr th {\n",
       "        vertical-align: top;\n",
       "    }\n",
       "\n",
       "    .dataframe thead th {\n",
       "        text-align: right;\n",
       "    }\n",
       "</style>\n",
       "<table border=\"1\" class=\"dataframe\">\n",
       "  <thead>\n",
       "    <tr style=\"text-align: right;\">\n",
       "      <th></th>\n",
       "      <th>MovieID</th>\n",
       "      <th>Title</th>\n",
       "      <th>Genres</th>\n",
       "    </tr>\n",
       "  </thead>\n",
       "  <tbody>\n",
       "    <tr>\n",
       "      <th>0</th>\n",
       "      <td>1</td>\n",
       "      <td>Toy Story (1995)</td>\n",
       "      <td>Animation|Children's|Comedy</td>\n",
       "    </tr>\n",
       "    <tr>\n",
       "      <th>1</th>\n",
       "      <td>2</td>\n",
       "      <td>Jumanji (1995)</td>\n",
       "      <td>Adventure|Children's|Fantasy</td>\n",
       "    </tr>\n",
       "    <tr>\n",
       "      <th>2</th>\n",
       "      <td>3</td>\n",
       "      <td>Grumpier Old Men (1995)</td>\n",
       "      <td>Comedy|Romance</td>\n",
       "    </tr>\n",
       "    <tr>\n",
       "      <th>3</th>\n",
       "      <td>4</td>\n",
       "      <td>Waiting to Exhale (1995)</td>\n",
       "      <td>Comedy|Drama</td>\n",
       "    </tr>\n",
       "    <tr>\n",
       "      <th>4</th>\n",
       "      <td>5</td>\n",
       "      <td>Father of the Bride Part II (1995)</td>\n",
       "      <td>Comedy</td>\n",
       "    </tr>\n",
       "  </tbody>\n",
       "</table>\n",
       "</div>"
      ],
      "text/plain": [
       "   MovieID                               Title                        Genres\n",
       "0        1                    Toy Story (1995)   Animation|Children's|Comedy\n",
       "1        2                      Jumanji (1995)  Adventure|Children's|Fantasy\n",
       "2        3             Grumpier Old Men (1995)                Comedy|Romance\n",
       "3        4            Waiting to Exhale (1995)                  Comedy|Drama\n",
       "4        5  Father of the Bride Part II (1995)                        Comedy"
      ]
     },
     "execution_count": 35,
     "metadata": {},
     "output_type": "execute_result"
    }
   ],
   "source": [
    "movies.head()"
   ]
  },
  {
   "cell_type": "code",
   "execution_count": 36,
   "id": "e4df1ae6",
   "metadata": {},
   "outputs": [
    {
     "data": {
      "text/html": [
       "<div>\n",
       "<style scoped>\n",
       "    .dataframe tbody tr th:only-of-type {\n",
       "        vertical-align: middle;\n",
       "    }\n",
       "\n",
       "    .dataframe tbody tr th {\n",
       "        vertical-align: top;\n",
       "    }\n",
       "\n",
       "    .dataframe thead th {\n",
       "        text-align: right;\n",
       "    }\n",
       "</style>\n",
       "<table border=\"1\" class=\"dataframe\">\n",
       "  <thead>\n",
       "    <tr style=\"text-align: right;\">\n",
       "      <th></th>\n",
       "      <th>UserID</th>\n",
       "      <th>Gender</th>\n",
       "      <th>Age</th>\n",
       "      <th>Occupation</th>\n",
       "      <th>Zip-code</th>\n",
       "    </tr>\n",
       "  </thead>\n",
       "  <tbody>\n",
       "    <tr>\n",
       "      <th>0</th>\n",
       "      <td>1</td>\n",
       "      <td>F</td>\n",
       "      <td>1</td>\n",
       "      <td>10</td>\n",
       "      <td>48067</td>\n",
       "    </tr>\n",
       "    <tr>\n",
       "      <th>1</th>\n",
       "      <td>2</td>\n",
       "      <td>M</td>\n",
       "      <td>56</td>\n",
       "      <td>16</td>\n",
       "      <td>70072</td>\n",
       "    </tr>\n",
       "    <tr>\n",
       "      <th>2</th>\n",
       "      <td>3</td>\n",
       "      <td>M</td>\n",
       "      <td>25</td>\n",
       "      <td>15</td>\n",
       "      <td>55117</td>\n",
       "    </tr>\n",
       "    <tr>\n",
       "      <th>3</th>\n",
       "      <td>4</td>\n",
       "      <td>M</td>\n",
       "      <td>45</td>\n",
       "      <td>7</td>\n",
       "      <td>02460</td>\n",
       "    </tr>\n",
       "    <tr>\n",
       "      <th>4</th>\n",
       "      <td>5</td>\n",
       "      <td>M</td>\n",
       "      <td>25</td>\n",
       "      <td>20</td>\n",
       "      <td>55455</td>\n",
       "    </tr>\n",
       "  </tbody>\n",
       "</table>\n",
       "</div>"
      ],
      "text/plain": [
       "   UserID Gender  Age  Occupation Zip-code\n",
       "0       1      F    1          10    48067\n",
       "1       2      M   56          16    70072\n",
       "2       3      M   25          15    55117\n",
       "3       4      M   45           7    02460\n",
       "4       5      M   25          20    55455"
      ]
     },
     "execution_count": 36,
     "metadata": {},
     "output_type": "execute_result"
    }
   ],
   "source": [
    "users.head()"
   ]
  },
  {
   "cell_type": "code",
   "execution_count": 37,
   "id": "a785e1f9",
   "metadata": {},
   "outputs": [
    {
     "data": {
      "text/html": [
       "<div>\n",
       "<style scoped>\n",
       "    .dataframe tbody tr th:only-of-type {\n",
       "        vertical-align: middle;\n",
       "    }\n",
       "\n",
       "    .dataframe tbody tr th {\n",
       "        vertical-align: top;\n",
       "    }\n",
       "\n",
       "    .dataframe thead th {\n",
       "        text-align: right;\n",
       "    }\n",
       "</style>\n",
       "<table border=\"1\" class=\"dataframe\">\n",
       "  <thead>\n",
       "    <tr style=\"text-align: right;\">\n",
       "      <th></th>\n",
       "      <th>UserID</th>\n",
       "      <th>MovieID</th>\n",
       "      <th>Rating</th>\n",
       "      <th>Timestamp</th>\n",
       "    </tr>\n",
       "  </thead>\n",
       "  <tbody>\n",
       "    <tr>\n",
       "      <th>0</th>\n",
       "      <td>1</td>\n",
       "      <td>1193</td>\n",
       "      <td>5</td>\n",
       "      <td>978300760</td>\n",
       "    </tr>\n",
       "    <tr>\n",
       "      <th>1</th>\n",
       "      <td>1</td>\n",
       "      <td>661</td>\n",
       "      <td>3</td>\n",
       "      <td>978302109</td>\n",
       "    </tr>\n",
       "    <tr>\n",
       "      <th>2</th>\n",
       "      <td>1</td>\n",
       "      <td>914</td>\n",
       "      <td>3</td>\n",
       "      <td>978301968</td>\n",
       "    </tr>\n",
       "    <tr>\n",
       "      <th>3</th>\n",
       "      <td>1</td>\n",
       "      <td>3408</td>\n",
       "      <td>4</td>\n",
       "      <td>978300275</td>\n",
       "    </tr>\n",
       "    <tr>\n",
       "      <th>4</th>\n",
       "      <td>1</td>\n",
       "      <td>2355</td>\n",
       "      <td>5</td>\n",
       "      <td>978824291</td>\n",
       "    </tr>\n",
       "  </tbody>\n",
       "</table>\n",
       "</div>"
      ],
      "text/plain": [
       "   UserID  MovieID  Rating  Timestamp\n",
       "0       1     1193       5  978300760\n",
       "1       1      661       3  978302109\n",
       "2       1      914       3  978301968\n",
       "3       1     3408       4  978300275\n",
       "4       1     2355       5  978824291"
      ]
     },
     "execution_count": 37,
     "metadata": {},
     "output_type": "execute_result"
    }
   ],
   "source": [
    "ratings.head()"
   ]
  },
  {
   "cell_type": "code",
   "execution_count": 38,
   "id": "cbefd7d7",
   "metadata": {},
   "outputs": [
    {
     "data": {
      "text/plain": [
       "((3883, 3), (1000209, 4), (6040, 5))"
      ]
     },
     "execution_count": 38,
     "metadata": {},
     "output_type": "execute_result"
    }
   ],
   "source": [
    "movies.shape, ratings.shape, users.shape"
   ]
  },
  {
   "cell_type": "code",
   "execution_count": 39,
   "id": "c1259e50",
   "metadata": {},
   "outputs": [
    {
     "data": {
      "text/html": [
       "<div>\n",
       "<style scoped>\n",
       "    .dataframe tbody tr th:only-of-type {\n",
       "        vertical-align: middle;\n",
       "    }\n",
       "\n",
       "    .dataframe tbody tr th {\n",
       "        vertical-align: top;\n",
       "    }\n",
       "\n",
       "    .dataframe thead th {\n",
       "        text-align: right;\n",
       "    }\n",
       "</style>\n",
       "<table border=\"1\" class=\"dataframe\">\n",
       "  <thead>\n",
       "    <tr style=\"text-align: right;\">\n",
       "      <th></th>\n",
       "      <th>MovieID</th>\n",
       "    </tr>\n",
       "    <tr>\n",
       "      <th>UserID</th>\n",
       "      <th></th>\n",
       "    </tr>\n",
       "  </thead>\n",
       "  <tbody>\n",
       "    <tr>\n",
       "      <th>947</th>\n",
       "      <td>20</td>\n",
       "    </tr>\n",
       "    <tr>\n",
       "      <th>4068</th>\n",
       "      <td>20</td>\n",
       "    </tr>\n",
       "    <tr>\n",
       "      <th>2530</th>\n",
       "      <td>20</td>\n",
       "    </tr>\n",
       "    <tr>\n",
       "      <th>341</th>\n",
       "      <td>20</td>\n",
       "    </tr>\n",
       "    <tr>\n",
       "      <th>5258</th>\n",
       "      <td>20</td>\n",
       "    </tr>\n",
       "    <tr>\n",
       "      <th>...</th>\n",
       "      <td>...</td>\n",
       "    </tr>\n",
       "    <tr>\n",
       "      <th>1181</th>\n",
       "      <td>1521</td>\n",
       "    </tr>\n",
       "    <tr>\n",
       "      <th>1941</th>\n",
       "      <td>1595</td>\n",
       "    </tr>\n",
       "    <tr>\n",
       "      <th>4277</th>\n",
       "      <td>1743</td>\n",
       "    </tr>\n",
       "    <tr>\n",
       "      <th>1680</th>\n",
       "      <td>1850</td>\n",
       "    </tr>\n",
       "    <tr>\n",
       "      <th>4169</th>\n",
       "      <td>2314</td>\n",
       "    </tr>\n",
       "  </tbody>\n",
       "</table>\n",
       "<p>6040 rows × 1 columns</p>\n",
       "</div>"
      ],
      "text/plain": [
       "        MovieID\n",
       "UserID         \n",
       "947          20\n",
       "4068         20\n",
       "2530         20\n",
       "341          20\n",
       "5258         20\n",
       "...         ...\n",
       "1181       1521\n",
       "1941       1595\n",
       "4277       1743\n",
       "1680       1850\n",
       "4169       2314\n",
       "\n",
       "[6040 rows x 1 columns]"
      ]
     },
     "execution_count": 39,
     "metadata": {},
     "output_type": "execute_result"
    }
   ],
   "source": [
    "ratings.groupby('UserID').count()[[\"MovieID\"]].sort_values(by=\"MovieID\")"
   ]
  },
  {
   "cell_type": "code",
   "execution_count": 40,
   "id": "6fc8ece8",
   "metadata": {},
   "outputs": [
    {
     "data": {
      "text/html": [
       "<div>\n",
       "<style scoped>\n",
       "    .dataframe tbody tr th:only-of-type {\n",
       "        vertical-align: middle;\n",
       "    }\n",
       "\n",
       "    .dataframe tbody tr th {\n",
       "        vertical-align: top;\n",
       "    }\n",
       "\n",
       "    .dataframe thead th {\n",
       "        text-align: right;\n",
       "    }\n",
       "</style>\n",
       "<table border=\"1\" class=\"dataframe\">\n",
       "  <thead>\n",
       "    <tr style=\"text-align: right;\">\n",
       "      <th></th>\n",
       "      <th>UserID</th>\n",
       "    </tr>\n",
       "    <tr>\n",
       "      <th>MovieID</th>\n",
       "      <th></th>\n",
       "    </tr>\n",
       "  </thead>\n",
       "  <tbody>\n",
       "    <tr>\n",
       "      <th>402</th>\n",
       "      <td>1</td>\n",
       "    </tr>\n",
       "    <tr>\n",
       "      <th>2214</th>\n",
       "      <td>1</td>\n",
       "    </tr>\n",
       "    <tr>\n",
       "      <th>3382</th>\n",
       "      <td>1</td>\n",
       "    </tr>\n",
       "    <tr>\n",
       "      <th>2217</th>\n",
       "      <td>1</td>\n",
       "    </tr>\n",
       "    <tr>\n",
       "      <th>2218</th>\n",
       "      <td>1</td>\n",
       "    </tr>\n",
       "    <tr>\n",
       "      <th>...</th>\n",
       "      <td>...</td>\n",
       "    </tr>\n",
       "    <tr>\n",
       "      <th>480</th>\n",
       "      <td>2672</td>\n",
       "    </tr>\n",
       "    <tr>\n",
       "      <th>1210</th>\n",
       "      <td>2883</td>\n",
       "    </tr>\n",
       "    <tr>\n",
       "      <th>1196</th>\n",
       "      <td>2990</td>\n",
       "    </tr>\n",
       "    <tr>\n",
       "      <th>260</th>\n",
       "      <td>2991</td>\n",
       "    </tr>\n",
       "    <tr>\n",
       "      <th>2858</th>\n",
       "      <td>3428</td>\n",
       "    </tr>\n",
       "  </tbody>\n",
       "</table>\n",
       "<p>3706 rows × 1 columns</p>\n",
       "</div>"
      ],
      "text/plain": [
       "         UserID\n",
       "MovieID        \n",
       "402           1\n",
       "2214          1\n",
       "3382          1\n",
       "2217          1\n",
       "2218          1\n",
       "...         ...\n",
       "480        2672\n",
       "1210       2883\n",
       "1196       2990\n",
       "260        2991\n",
       "2858       3428\n",
       "\n",
       "[3706 rows x 1 columns]"
      ]
     },
     "execution_count": 40,
     "metadata": {},
     "output_type": "execute_result"
    }
   ],
   "source": [
    "ratings.groupby('MovieID').count()[[\"UserID\"]].sort_values(by=\"UserID\")"
   ]
  },
  {
   "cell_type": "code",
   "execution_count": 41,
   "id": "1dd657da",
   "metadata": {},
   "outputs": [],
   "source": [
    "USERS_CNT = 6040"
   ]
  },
  {
   "cell_type": "code",
   "execution_count": 42,
   "id": "da8ce342",
   "metadata": {},
   "outputs": [],
   "source": [
    "## normalize the rating between [-1, 1]\n",
    "ratings.Rating =(ratings.Rating-3)/2"
   ]
  },
  {
   "cell_type": "code",
   "execution_count": 43,
   "id": "4f204b68",
   "metadata": {},
   "outputs": [
    {
     "data": {
      "text/html": [
       "<div>\n",
       "<style scoped>\n",
       "    .dataframe tbody tr th:only-of-type {\n",
       "        vertical-align: middle;\n",
       "    }\n",
       "\n",
       "    .dataframe tbody tr th {\n",
       "        vertical-align: top;\n",
       "    }\n",
       "\n",
       "    .dataframe thead th {\n",
       "        text-align: right;\n",
       "    }\n",
       "</style>\n",
       "<table border=\"1\" class=\"dataframe\">\n",
       "  <thead>\n",
       "    <tr style=\"text-align: right;\">\n",
       "      <th></th>\n",
       "      <th>UserID</th>\n",
       "      <th>MovieID</th>\n",
       "      <th>Rating</th>\n",
       "      <th>Timestamp</th>\n",
       "    </tr>\n",
       "  </thead>\n",
       "  <tbody>\n",
       "    <tr>\n",
       "      <th>0</th>\n",
       "      <td>1</td>\n",
       "      <td>1193</td>\n",
       "      <td>1.0</td>\n",
       "      <td>978300760</td>\n",
       "    </tr>\n",
       "    <tr>\n",
       "      <th>1</th>\n",
       "      <td>1</td>\n",
       "      <td>661</td>\n",
       "      <td>0.0</td>\n",
       "      <td>978302109</td>\n",
       "    </tr>\n",
       "    <tr>\n",
       "      <th>2</th>\n",
       "      <td>1</td>\n",
       "      <td>914</td>\n",
       "      <td>0.0</td>\n",
       "      <td>978301968</td>\n",
       "    </tr>\n",
       "    <tr>\n",
       "      <th>3</th>\n",
       "      <td>1</td>\n",
       "      <td>3408</td>\n",
       "      <td>0.5</td>\n",
       "      <td>978300275</td>\n",
       "    </tr>\n",
       "    <tr>\n",
       "      <th>4</th>\n",
       "      <td>1</td>\n",
       "      <td>2355</td>\n",
       "      <td>1.0</td>\n",
       "      <td>978824291</td>\n",
       "    </tr>\n",
       "  </tbody>\n",
       "</table>\n",
       "</div>"
      ],
      "text/plain": [
       "   UserID  MovieID  Rating  Timestamp\n",
       "0       1     1193     1.0  978300760\n",
       "1       1      661     0.0  978302109\n",
       "2       1      914     0.0  978301968\n",
       "3       1     3408     0.5  978300275\n",
       "4       1     2355     1.0  978824291"
      ]
     },
     "execution_count": 43,
     "metadata": {},
     "output_type": "execute_result"
    }
   ],
   "source": [
    "ratings.head()"
   ]
  },
  {
   "cell_type": "code",
   "execution_count": 44,
   "id": "26849437",
   "metadata": {},
   "outputs": [],
   "source": [
    "def generate_sparse_matrix(dataset):\n",
    "    items_max_id = dataset.MovieID.max()\n",
    "\n",
    "    items = np.zeros(shape = (items_max_id, USERS_CNT), dtype = np.float32)\n",
    "\n",
    "    for index, row in dataset.iterrows():\n",
    "        items[int(row['MovieID'] - 1), int(row['UserID'] - 1)] = row['Rating']\n",
    "\n",
    "    return items"
   ]
  },
  {
   "cell_type": "code",
   "execution_count": 45,
   "id": "78f8c6ec",
   "metadata": {},
   "outputs": [],
   "source": [
    "ratings_sparse_matrix = generate_sparse_matrix(ratings)"
   ]
  },
  {
   "cell_type": "code",
   "execution_count": 46,
   "id": "95138202",
   "metadata": {},
   "outputs": [
    {
     "name": "stdout",
     "output_type": "stream",
     "text": [
      "(3952, 6040)\n",
      "(6040,)\n"
     ]
    },
    {
     "data": {
      "text/plain": [
       "array([1., 0., 0., ..., 0., 0., 0.], dtype=float32)"
      ]
     },
     "execution_count": 46,
     "metadata": {},
     "output_type": "execute_result"
    }
   ],
   "source": [
    "print(ratings_sparse_matrix.shape)\n",
    "print(ratings_sparse_matrix[0].shape)\n",
    "ratings_sparse_matrix[0]"
   ]
  },
  {
   "cell_type": "code",
   "execution_count": 47,
   "id": "9dea9d1d",
   "metadata": {},
   "outputs": [],
   "source": [
    "train_ratings, test_ratings = train_test_split(ratings_sparse_matrix, test_size=0.1)"
   ]
  },
  {
   "cell_type": "code",
   "execution_count": 48,
   "id": "60de34de",
   "metadata": {},
   "outputs": [
    {
     "data": {
      "text/plain": [
       "((3556, 6040), (396, 6040))"
      ]
     },
     "execution_count": 48,
     "metadata": {},
     "output_type": "execute_result"
    }
   ],
   "source": [
    "train_ratings.shape, test_ratings.shape"
   ]
  },
  {
   "cell_type": "code",
   "execution_count": 49,
   "id": "b37eda5f",
   "metadata": {},
   "outputs": [],
   "source": [
    "from torch.utils.data import Dataset\n",
    "\n",
    "\n",
    "class RatingsDataset(Dataset):\n",
    "    \n",
    "    def __init__(self, ratings):\n",
    "        self.ratings = ratings\n",
    "        self.known_indices = self.get_known_indeces()\n",
    "        self.masked_ratings, self.masked_indices = self.mask_ratings()\n",
    "        \n",
    "        \n",
    "    def __len__(self):\n",
    "        return len(self.ratings)\n",
    "    \n",
    "    def __getitem__(self, index):\n",
    "        \n",
    "        result = {\n",
    "            'inp':  torch.from_numpy(np.array(self.masked_ratings[index])).float(), \n",
    "            'out': torch.from_numpy(np.array(self.ratings[index])).float()\n",
    "#             'known_indices': self.known_indices[index],\n",
    "#             'masked_indices': self.masked_indices[index]\n",
    "        }\n",
    "        \n",
    "        return result\n",
    "        \n",
    "    \n",
    "    def get_known_indeces(self):\n",
    "        known_indices = {}\n",
    "        for index, rating in enumerate(self.ratings):\n",
    "            known_indices[index] =  np.where(rating > 0)[0].tolist()\n",
    "            \n",
    "        return known_indices\n",
    "    \n",
    "   \n",
    "        \n",
    "    def mask_ratings(self):\n",
    "    \n",
    "        masked_ratings = self.ratings.copy()\n",
    "        masked_indices = {}\n",
    "                \n",
    "        for index, rating in enumerate(masked_ratings):\n",
    "            \n",
    "            known = self.known_indices[index]\n",
    "            known_cnt = len(known)\n",
    "                        \n",
    "            masked_features_cnt = int(MASK_RATIO * known_cnt)\n",
    "            masked = random.sample(known, masked_features_cnt)\n",
    "            \n",
    "            rating[masked] = 0\n",
    "                        \n",
    "            masked_indices[index] = masked\n",
    "            \n",
    "            \n",
    "        return masked_ratings, masked_indices"
   ]
  },
  {
   "cell_type": "code",
   "execution_count": 50,
   "id": "49bdd0fe",
   "metadata": {},
   "outputs": [],
   "source": [
    "train_dataset = RatingsDataset(train_ratings)"
   ]
  },
  {
   "cell_type": "code",
   "execution_count": 51,
   "id": "81c0da51",
   "metadata": {},
   "outputs": [],
   "source": [
    "test_dataset = RatingsDataset(test_ratings)"
   ]
  },
  {
   "cell_type": "markdown",
   "id": "processed-style",
   "metadata": {},
   "source": [
    "# Network"
   ]
  },
  {
   "cell_type": "code",
   "execution_count": 76,
   "id": "first-mozambique",
   "metadata": {},
   "outputs": [
    {
     "name": "stdout",
     "output_type": "stream",
     "text": [
      "Denoising_Model(\n",
      "  (encoder): Sequential(\n",
      "    (0): Linear(in_features=6040, out_features=100, bias=True)\n",
      "    (1): Tanh()\n",
      "  )\n",
      "  (decoder): Sequential(\n",
      "    (0): Linear(in_features=100, out_features=6040, bias=True)\n",
      "    (1): Tanh()\n",
      "  )\n",
      ")\n"
     ]
    }
   ],
   "source": [
    "import torch.nn as nn\n",
    "\n",
    "inputSize = 6040\n",
    "class Denoising_Model(nn.Module):\n",
    "    def __init__(self):\n",
    "        super(Denoising_Model,self).__init__()\n",
    "        self.encoder=nn.Sequential(\n",
    "                      nn.Linear(inputSize, 100),  # There are 6040 users in movieLens-1M\n",
    "                      nn.Tanh()\n",
    "                      )\n",
    "\n",
    "        self.decoder=nn.Sequential(\n",
    "                      nn.Linear(100, inputSize),\n",
    "                      nn.Tanh()\n",
    "                      )\n",
    "\n",
    "\n",
    "    def forward(self,x):\n",
    "        x=self.encoder(x)\n",
    "        x=self.decoder(x)\n",
    "        return x\n",
    "    \n",
    "network = Denoising_Model()\n",
    "print(network)"
   ]
  },
  {
   "cell_type": "code",
   "execution_count": 59,
   "id": "frozen-grove",
   "metadata": {},
   "outputs": [
    {
     "name": "stdout",
     "output_type": "stream",
     "text": [
      "3556\n"
     ]
    }
   ],
   "source": [
    "print(len(train_dataset))"
   ]
  },
  {
   "cell_type": "code",
   "execution_count": 54,
   "id": "familiar-berlin",
   "metadata": {},
   "outputs": [],
   "source": [
    "def train(model, masked_ratings, known_ratings, optimizer, criterion):   \n",
    "    masked_ratings,known_ratings=masked_ratings.to(device),known_ratings.to(device)\n",
    "    # Forward Pass\n",
    "    output=model(masked_ratings)\n",
    "    loss=criterion(output,known_ratings)\n",
    "    #Backward Pass---------------------\n",
    "    optimizer.zero_grad()\n",
    "    loss.backward()\n",
    "    optimizer.step()\n",
    "\n",
    "    return loss, output\n"
   ]
  },
  {
   "cell_type": "code",
   "execution_count": 79,
   "id": "front-machinery",
   "metadata": {},
   "outputs": [
    {
     "name": "stdout",
     "output_type": "stream",
     "text": [
      "3556\n",
      "True\n",
      "Epoch 1 Loss : 0.009264114312827587\n",
      "Epoch 2 Loss : 0.012533292174339294\n",
      "Epoch 3 Loss : 0.020862579345703125\n",
      "Epoch 4 Loss : 0.02182365395128727\n",
      "Epoch 5 Loss : 0.015517272986471653\n",
      "Epoch 6 Loss : 0.024610206484794617\n",
      "Epoch 7 Loss : 0.03386373817920685\n",
      "Epoch 8 Loss : 0.013549523428082466\n",
      "Epoch 9 Loss : 0.01635218970477581\n",
      "Epoch 10 Loss : 0.024760758504271507\n",
      "Epoch 11 Loss : 0.01519069168716669\n",
      "Epoch 12 Loss : 0.01267748512327671\n",
      "Epoch 13 Loss : 0.026379330083727837\n",
      "Epoch 14 Loss : 0.025091085582971573\n",
      "Epoch 15 Loss : 0.0225560013204813\n",
      "Epoch 16 Loss : 0.016098754480481148\n",
      "Epoch 17 Loss : 0.02474430575966835\n",
      "Epoch 18 Loss : 0.018545040860772133\n",
      "Epoch 19 Loss : 0.017396394163370132\n",
      "Epoch 20 Loss : 0.021031230688095093\n"
     ]
    }
   ],
   "source": [
    "from torch.optim import Adam\n",
    "from torch.utils.data import DataLoader\n",
    "from tqdm import tqdm\n",
    "from torch import optim\n",
    "from torch.utils.data import DataLoader\n",
    "\n",
    "if torch.cuda.is_available()==True:\n",
    "    device=\"cuda:0\"\n",
    "else:\n",
    "    device =\"cpu\"\n",
    "\n",
    "criterion = nn.MSELoss()\n",
    "EPOCHS = 20\n",
    "BATCH_SIZE = 28\n",
    "\n",
    "train_loader = DataLoader(dataset = train_dataset, batch_size = BATCH_SIZE, shuffle = True)\n",
    "model=Denoising_Model().to(device)\n",
    "criterion=nn.MSELoss()\n",
    "# optimizer=optim.SGD(model.parameters(),lr=0.07,weight_decay=0.05)\n",
    "optimizer = Adam(network.parameters(), lr = 0.007)\n",
    "\n",
    "epoch_loss=0\n",
    "for epoch in range(EPOCHS):       \n",
    "    for bidx, batch in enumerate(train_loader):\n",
    "        x_train = batch['inp']\n",
    "        y_train = batch['out']\n",
    "\n",
    "        loss, predictions = train(network,x_train,y_train, optimizer, criterion)\n",
    "        epoch_loss += loss\n",
    "        \n",
    "    print('Epoch {} Loss : {}'.format((epoch+1),loss))\n",
    "\n"
   ]
  },
  {
   "cell_type": "code",
   "execution_count": 81,
   "id": "sized-hungary",
   "metadata": {},
   "outputs": [
    {
     "ename": "AttributeError",
     "evalue": "module 'torch.nn' has no attribute 'MSECriterion'",
     "output_type": "error",
     "traceback": [
      "\u001b[0;31m---------------------------------------------------------------------------\u001b[0m",
      "\u001b[0;31mAttributeError\u001b[0m                            Traceback (most recent call last)",
      "\u001b[0;32m<ipython-input-81-fd21e20c550f>\u001b[0m in \u001b[0;36m<module>\u001b[0;34m\u001b[0m\n\u001b[1;32m     21\u001b[0m     \u001b[0mprint\u001b[0m\u001b[0;34m(\u001b[0m\u001b[0;34m\"RMSE: \"\u001b[0m\u001b[0;34m,\u001b[0m \u001b[0mrmse\u001b[0m\u001b[0;34m)\u001b[0m\u001b[0;34m\u001b[0m\u001b[0;34m\u001b[0m\u001b[0m\n\u001b[1;32m     22\u001b[0m \u001b[0;34m\u001b[0m\u001b[0m\n\u001b[0;32m---> 23\u001b[0;31m \u001b[0mtest\u001b[0m\u001b[0;34m(\u001b[0m\u001b[0;34m)\u001b[0m\u001b[0;34m\u001b[0m\u001b[0;34m\u001b[0m\u001b[0m\n\u001b[0m",
      "\u001b[0;32m<ipython-input-81-fd21e20c550f>\u001b[0m in \u001b[0;36mtest\u001b[0;34m()\u001b[0m\n\u001b[1;32m      4\u001b[0m \u001b[0;34m\u001b[0m\u001b[0m\n\u001b[1;32m      5\u001b[0m \u001b[0;32mdef\u001b[0m \u001b[0mtest\u001b[0m\u001b[0;34m(\u001b[0m\u001b[0;34m)\u001b[0m\u001b[0;34m:\u001b[0m\u001b[0;34m\u001b[0m\u001b[0;34m\u001b[0m\u001b[0m\n\u001b[0;32m----> 6\u001b[0;31m     \u001b[0mcriterion\u001b[0m\u001b[0;34m=\u001b[0m\u001b[0mnn\u001b[0m\u001b[0;34m.\u001b[0m\u001b[0mMSECriterion\u001b[0m\u001b[0;34m(\u001b[0m\u001b[0;34m)\u001b[0m\u001b[0;34m\u001b[0m\u001b[0;34m\u001b[0m\u001b[0m\n\u001b[0m\u001b[1;32m      7\u001b[0m     \u001b[0mnoRatings\u001b[0m \u001b[0;34m=\u001b[0m \u001b[0;36m0\u001b[0m\u001b[0;34m\u001b[0m\u001b[0;34m\u001b[0m\u001b[0m\n\u001b[1;32m      8\u001b[0m     \u001b[0minput\u001b[0m\u001b[0;34m,\u001b[0m \u001b[0mtarget\u001b[0m\u001b[0;34m,\u001b[0m \u001b[0mminibatch\u001b[0m \u001b[0;34m=\u001b[0m \u001b[0;34m{\u001b[0m\u001b[0;34m}\u001b[0m\u001b[0;34m,\u001b[0m \u001b[0;34m{\u001b[0m\u001b[0;34m}\u001b[0m\u001b[0;34m,\u001b[0m \u001b[0;34m{\u001b[0m\u001b[0;34m}\u001b[0m\u001b[0;34m\u001b[0m\u001b[0;34m\u001b[0m\u001b[0m\n",
      "\u001b[0;31mAttributeError\u001b[0m: module 'torch.nn' has no attribute 'MSECriterion'"
     ]
    }
   ],
   "source": [
    "from sklearn.metrics import mean_squared_error\n",
    "from math import sqrt\n",
    "\n",
    "\n",
    "def test():\n",
    "    criterion=nn.MSECriterion()\n",
    "    noRatings = 0\n",
    "    input, target, minibatch = {}, {}, {}\n",
    "    # TODO: Replace 'out'/'inp' \n",
    "    y_true = [test_dataset[i]['out'].item() for i in range(len(test_dataset))]\n",
    "    y_pred = []\n",
    "\n",
    "    trial_loader = DataLoader(dataset = test_dataset, batch_size = BATCH_SIZE, shuffle = False)\n",
    "    for bidx, batch in enumerate(test_loader):\n",
    "            x_train = batch['inp']\n",
    "            y_pred.append(net(x_train))\n",
    "\n",
    "    y_pred = [x.item() for i in range(len(y_pred)) for x in y_pred[i] ]\n",
    "\n",
    "    rmse = sqrt(mean_squared_error(y_true, y_pred))\n",
    "    print(\"RMSE: \", rmse)\n",
    "\n",
    "test()"
   ]
  },
  {
   "cell_type": "code",
   "execution_count": null,
   "id": "seventh-poetry",
   "metadata": {},
   "outputs": [],
   "source": []
  }
 ],
 "metadata": {
  "kernelspec": {
   "display_name": "Python 3",
   "language": "python",
   "name": "python3"
  },
  "language_info": {
   "codemirror_mode": {
    "name": "ipython",
    "version": 3
   },
   "file_extension": ".py",
   "mimetype": "text/x-python",
   "name": "python",
   "nbconvert_exporter": "python",
   "pygments_lexer": "ipython3",
   "version": "3.8.5"
  }
 },
 "nbformat": 4,
 "nbformat_minor": 5
}
