{
 "cells": [
  {
   "cell_type": "markdown",
   "id": "ba081119",
   "metadata": {},
   "source": [
    "# Dependencies"
   ]
  },
  {
   "cell_type": "code",
   "execution_count": 1,
   "id": "significant-stevens",
   "metadata": {},
   "outputs": [],
   "source": [
    "import torch\n",
    "import pandas as pd\n",
    "import numpy as np\n",
    "import random\n",
    "from sklearn.model_selection import train_test_split"
   ]
  },
  {
   "cell_type": "markdown",
   "id": "stuffed-metadata",
   "metadata": {},
   "source": [
    "# Dataset"
   ]
  },
  {
   "cell_type": "code",
   "execution_count": 3,
   "id": "8ec64200",
   "metadata": {},
   "outputs": [],
   "source": [
    "MASK_RATIO = 0.25"
   ]
  },
  {
   "cell_type": "code",
   "execution_count": 5,
   "id": "5ce48042",
   "metadata": {},
   "outputs": [],
   "source": [
    "movies = pd.read_csv('ml-1m/movies.dat',sep='::',header=None,names=[\"MovieID\", \"Title\", \"Genres\"],engine='python')\n",
    "ratings = pd.read_csv('ml-1m/ratings.dat',sep='::',header=None,names=[\"UserID\", \"MovieID\", \"Rating\", \"Timestamp\"],engine='python')\n",
    "users = pd.read_csv('ml-1m/users.dat',sep='::',header=None,names=[\"UserID\", \"Gender\", \"Age\", \"Occupation\", \"Zip-code\"],engine='python')"
   ]
  },
  {
   "cell_type": "code",
   "execution_count": 6,
   "id": "371850af",
   "metadata": {},
   "outputs": [
    {
     "data": {
      "text/html": [
       "<div>\n",
       "<style scoped>\n",
       "    .dataframe tbody tr th:only-of-type {\n",
       "        vertical-align: middle;\n",
       "    }\n",
       "\n",
       "    .dataframe tbody tr th {\n",
       "        vertical-align: top;\n",
       "    }\n",
       "\n",
       "    .dataframe thead th {\n",
       "        text-align: right;\n",
       "    }\n",
       "</style>\n",
       "<table border=\"1\" class=\"dataframe\">\n",
       "  <thead>\n",
       "    <tr style=\"text-align: right;\">\n",
       "      <th></th>\n",
       "      <th>MovieID</th>\n",
       "      <th>Title</th>\n",
       "      <th>Genres</th>\n",
       "    </tr>\n",
       "  </thead>\n",
       "  <tbody>\n",
       "    <tr>\n",
       "      <th>0</th>\n",
       "      <td>1</td>\n",
       "      <td>Toy Story (1995)</td>\n",
       "      <td>Animation|Children's|Comedy</td>\n",
       "    </tr>\n",
       "    <tr>\n",
       "      <th>1</th>\n",
       "      <td>2</td>\n",
       "      <td>Jumanji (1995)</td>\n",
       "      <td>Adventure|Children's|Fantasy</td>\n",
       "    </tr>\n",
       "    <tr>\n",
       "      <th>2</th>\n",
       "      <td>3</td>\n",
       "      <td>Grumpier Old Men (1995)</td>\n",
       "      <td>Comedy|Romance</td>\n",
       "    </tr>\n",
       "    <tr>\n",
       "      <th>3</th>\n",
       "      <td>4</td>\n",
       "      <td>Waiting to Exhale (1995)</td>\n",
       "      <td>Comedy|Drama</td>\n",
       "    </tr>\n",
       "    <tr>\n",
       "      <th>4</th>\n",
       "      <td>5</td>\n",
       "      <td>Father of the Bride Part II (1995)</td>\n",
       "      <td>Comedy</td>\n",
       "    </tr>\n",
       "  </tbody>\n",
       "</table>\n",
       "</div>"
      ],
      "text/plain": [
       "   MovieID                               Title                        Genres\n",
       "0        1                    Toy Story (1995)   Animation|Children's|Comedy\n",
       "1        2                      Jumanji (1995)  Adventure|Children's|Fantasy\n",
       "2        3             Grumpier Old Men (1995)                Comedy|Romance\n",
       "3        4            Waiting to Exhale (1995)                  Comedy|Drama\n",
       "4        5  Father of the Bride Part II (1995)                        Comedy"
      ]
     },
     "execution_count": 6,
     "metadata": {},
     "output_type": "execute_result"
    }
   ],
   "source": [
    "movies.head()"
   ]
  },
  {
   "cell_type": "code",
   "execution_count": 5,
   "id": "e4df1ae6",
   "metadata": {},
   "outputs": [
    {
     "data": {
      "text/html": [
       "<div>\n",
       "<style scoped>\n",
       "    .dataframe tbody tr th:only-of-type {\n",
       "        vertical-align: middle;\n",
       "    }\n",
       "\n",
       "    .dataframe tbody tr th {\n",
       "        vertical-align: top;\n",
       "    }\n",
       "\n",
       "    .dataframe thead th {\n",
       "        text-align: right;\n",
       "    }\n",
       "</style>\n",
       "<table border=\"1\" class=\"dataframe\">\n",
       "  <thead>\n",
       "    <tr style=\"text-align: right;\">\n",
       "      <th></th>\n",
       "      <th>UserID</th>\n",
       "      <th>Gender</th>\n",
       "      <th>Age</th>\n",
       "      <th>Occupation</th>\n",
       "      <th>Zip-code</th>\n",
       "    </tr>\n",
       "  </thead>\n",
       "  <tbody>\n",
       "    <tr>\n",
       "      <th>0</th>\n",
       "      <td>1</td>\n",
       "      <td>F</td>\n",
       "      <td>1</td>\n",
       "      <td>10</td>\n",
       "      <td>48067</td>\n",
       "    </tr>\n",
       "    <tr>\n",
       "      <th>1</th>\n",
       "      <td>2</td>\n",
       "      <td>M</td>\n",
       "      <td>56</td>\n",
       "      <td>16</td>\n",
       "      <td>70072</td>\n",
       "    </tr>\n",
       "    <tr>\n",
       "      <th>2</th>\n",
       "      <td>3</td>\n",
       "      <td>M</td>\n",
       "      <td>25</td>\n",
       "      <td>15</td>\n",
       "      <td>55117</td>\n",
       "    </tr>\n",
       "    <tr>\n",
       "      <th>3</th>\n",
       "      <td>4</td>\n",
       "      <td>M</td>\n",
       "      <td>45</td>\n",
       "      <td>7</td>\n",
       "      <td>02460</td>\n",
       "    </tr>\n",
       "    <tr>\n",
       "      <th>4</th>\n",
       "      <td>5</td>\n",
       "      <td>M</td>\n",
       "      <td>25</td>\n",
       "      <td>20</td>\n",
       "      <td>55455</td>\n",
       "    </tr>\n",
       "  </tbody>\n",
       "</table>\n",
       "</div>"
      ],
      "text/plain": [
       "   UserID Gender  Age  Occupation Zip-code\n",
       "0       1      F    1          10    48067\n",
       "1       2      M   56          16    70072\n",
       "2       3      M   25          15    55117\n",
       "3       4      M   45           7    02460\n",
       "4       5      M   25          20    55455"
      ]
     },
     "execution_count": 5,
     "metadata": {},
     "output_type": "execute_result"
    }
   ],
   "source": [
    "users.head()"
   ]
  },
  {
   "cell_type": "code",
   "execution_count": 6,
   "id": "a785e1f9",
   "metadata": {},
   "outputs": [
    {
     "data": {
      "text/html": [
       "<div>\n",
       "<style scoped>\n",
       "    .dataframe tbody tr th:only-of-type {\n",
       "        vertical-align: middle;\n",
       "    }\n",
       "\n",
       "    .dataframe tbody tr th {\n",
       "        vertical-align: top;\n",
       "    }\n",
       "\n",
       "    .dataframe thead th {\n",
       "        text-align: right;\n",
       "    }\n",
       "</style>\n",
       "<table border=\"1\" class=\"dataframe\">\n",
       "  <thead>\n",
       "    <tr style=\"text-align: right;\">\n",
       "      <th></th>\n",
       "      <th>UserID</th>\n",
       "      <th>MovieID</th>\n",
       "      <th>Rating</th>\n",
       "      <th>Timestamp</th>\n",
       "    </tr>\n",
       "  </thead>\n",
       "  <tbody>\n",
       "    <tr>\n",
       "      <th>0</th>\n",
       "      <td>1</td>\n",
       "      <td>1193</td>\n",
       "      <td>5</td>\n",
       "      <td>978300760</td>\n",
       "    </tr>\n",
       "    <tr>\n",
       "      <th>1</th>\n",
       "      <td>1</td>\n",
       "      <td>661</td>\n",
       "      <td>3</td>\n",
       "      <td>978302109</td>\n",
       "    </tr>\n",
       "    <tr>\n",
       "      <th>2</th>\n",
       "      <td>1</td>\n",
       "      <td>914</td>\n",
       "      <td>3</td>\n",
       "      <td>978301968</td>\n",
       "    </tr>\n",
       "    <tr>\n",
       "      <th>3</th>\n",
       "      <td>1</td>\n",
       "      <td>3408</td>\n",
       "      <td>4</td>\n",
       "      <td>978300275</td>\n",
       "    </tr>\n",
       "    <tr>\n",
       "      <th>4</th>\n",
       "      <td>1</td>\n",
       "      <td>2355</td>\n",
       "      <td>5</td>\n",
       "      <td>978824291</td>\n",
       "    </tr>\n",
       "  </tbody>\n",
       "</table>\n",
       "</div>"
      ],
      "text/plain": [
       "   UserID  MovieID  Rating  Timestamp\n",
       "0       1     1193       5  978300760\n",
       "1       1      661       3  978302109\n",
       "2       1      914       3  978301968\n",
       "3       1     3408       4  978300275\n",
       "4       1     2355       5  978824291"
      ]
     },
     "execution_count": 6,
     "metadata": {},
     "output_type": "execute_result"
    }
   ],
   "source": [
    "ratings.head()"
   ]
  },
  {
   "cell_type": "code",
   "execution_count": 7,
   "id": "cbefd7d7",
   "metadata": {},
   "outputs": [
    {
     "data": {
      "text/plain": [
       "((3883, 3), (1000209, 4), (6040, 5))"
      ]
     },
     "execution_count": 7,
     "metadata": {},
     "output_type": "execute_result"
    }
   ],
   "source": [
    "movies.shape, ratings.shape, users.shape"
   ]
  },
  {
   "cell_type": "code",
   "execution_count": 8,
   "id": "c1259e50",
   "metadata": {},
   "outputs": [
    {
     "data": {
      "text/html": [
       "<div>\n",
       "<style scoped>\n",
       "    .dataframe tbody tr th:only-of-type {\n",
       "        vertical-align: middle;\n",
       "    }\n",
       "\n",
       "    .dataframe tbody tr th {\n",
       "        vertical-align: top;\n",
       "    }\n",
       "\n",
       "    .dataframe thead th {\n",
       "        text-align: right;\n",
       "    }\n",
       "</style>\n",
       "<table border=\"1\" class=\"dataframe\">\n",
       "  <thead>\n",
       "    <tr style=\"text-align: right;\">\n",
       "      <th></th>\n",
       "      <th>MovieID</th>\n",
       "    </tr>\n",
       "    <tr>\n",
       "      <th>UserID</th>\n",
       "      <th></th>\n",
       "    </tr>\n",
       "  </thead>\n",
       "  <tbody>\n",
       "    <tr>\n",
       "      <th>947</th>\n",
       "      <td>20</td>\n",
       "    </tr>\n",
       "    <tr>\n",
       "      <th>4068</th>\n",
       "      <td>20</td>\n",
       "    </tr>\n",
       "    <tr>\n",
       "      <th>2530</th>\n",
       "      <td>20</td>\n",
       "    </tr>\n",
       "    <tr>\n",
       "      <th>341</th>\n",
       "      <td>20</td>\n",
       "    </tr>\n",
       "    <tr>\n",
       "      <th>5258</th>\n",
       "      <td>20</td>\n",
       "    </tr>\n",
       "    <tr>\n",
       "      <th>...</th>\n",
       "      <td>...</td>\n",
       "    </tr>\n",
       "    <tr>\n",
       "      <th>1181</th>\n",
       "      <td>1521</td>\n",
       "    </tr>\n",
       "    <tr>\n",
       "      <th>1941</th>\n",
       "      <td>1595</td>\n",
       "    </tr>\n",
       "    <tr>\n",
       "      <th>4277</th>\n",
       "      <td>1743</td>\n",
       "    </tr>\n",
       "    <tr>\n",
       "      <th>1680</th>\n",
       "      <td>1850</td>\n",
       "    </tr>\n",
       "    <tr>\n",
       "      <th>4169</th>\n",
       "      <td>2314</td>\n",
       "    </tr>\n",
       "  </tbody>\n",
       "</table>\n",
       "<p>6040 rows × 1 columns</p>\n",
       "</div>"
      ],
      "text/plain": [
       "        MovieID\n",
       "UserID         \n",
       "947          20\n",
       "4068         20\n",
       "2530         20\n",
       "341          20\n",
       "5258         20\n",
       "...         ...\n",
       "1181       1521\n",
       "1941       1595\n",
       "4277       1743\n",
       "1680       1850\n",
       "4169       2314\n",
       "\n",
       "[6040 rows x 1 columns]"
      ]
     },
     "execution_count": 8,
     "metadata": {},
     "output_type": "execute_result"
    }
   ],
   "source": [
    "ratings.groupby('UserID').count()[[\"MovieID\"]].sort_values(by=\"MovieID\")"
   ]
  },
  {
   "cell_type": "code",
   "execution_count": 9,
   "id": "6fc8ece8",
   "metadata": {},
   "outputs": [
    {
     "data": {
      "text/html": [
       "<div>\n",
       "<style scoped>\n",
       "    .dataframe tbody tr th:only-of-type {\n",
       "        vertical-align: middle;\n",
       "    }\n",
       "\n",
       "    .dataframe tbody tr th {\n",
       "        vertical-align: top;\n",
       "    }\n",
       "\n",
       "    .dataframe thead th {\n",
       "        text-align: right;\n",
       "    }\n",
       "</style>\n",
       "<table border=\"1\" class=\"dataframe\">\n",
       "  <thead>\n",
       "    <tr style=\"text-align: right;\">\n",
       "      <th></th>\n",
       "      <th>UserID</th>\n",
       "    </tr>\n",
       "    <tr>\n",
       "      <th>MovieID</th>\n",
       "      <th></th>\n",
       "    </tr>\n",
       "  </thead>\n",
       "  <tbody>\n",
       "    <tr>\n",
       "      <th>402</th>\n",
       "      <td>1</td>\n",
       "    </tr>\n",
       "    <tr>\n",
       "      <th>2214</th>\n",
       "      <td>1</td>\n",
       "    </tr>\n",
       "    <tr>\n",
       "      <th>3382</th>\n",
       "      <td>1</td>\n",
       "    </tr>\n",
       "    <tr>\n",
       "      <th>2217</th>\n",
       "      <td>1</td>\n",
       "    </tr>\n",
       "    <tr>\n",
       "      <th>2218</th>\n",
       "      <td>1</td>\n",
       "    </tr>\n",
       "    <tr>\n",
       "      <th>...</th>\n",
       "      <td>...</td>\n",
       "    </tr>\n",
       "    <tr>\n",
       "      <th>480</th>\n",
       "      <td>2672</td>\n",
       "    </tr>\n",
       "    <tr>\n",
       "      <th>1210</th>\n",
       "      <td>2883</td>\n",
       "    </tr>\n",
       "    <tr>\n",
       "      <th>1196</th>\n",
       "      <td>2990</td>\n",
       "    </tr>\n",
       "    <tr>\n",
       "      <th>260</th>\n",
       "      <td>2991</td>\n",
       "    </tr>\n",
       "    <tr>\n",
       "      <th>2858</th>\n",
       "      <td>3428</td>\n",
       "    </tr>\n",
       "  </tbody>\n",
       "</table>\n",
       "<p>3706 rows × 1 columns</p>\n",
       "</div>"
      ],
      "text/plain": [
       "         UserID\n",
       "MovieID        \n",
       "402           1\n",
       "2214          1\n",
       "3382          1\n",
       "2217          1\n",
       "2218          1\n",
       "...         ...\n",
       "480        2672\n",
       "1210       2883\n",
       "1196       2990\n",
       "260        2991\n",
       "2858       3428\n",
       "\n",
       "[3706 rows x 1 columns]"
      ]
     },
     "execution_count": 9,
     "metadata": {},
     "output_type": "execute_result"
    }
   ],
   "source": [
    "ratings.groupby('MovieID').count()[[\"UserID\"]].sort_values(by=\"UserID\")"
   ]
  },
  {
   "cell_type": "code",
   "execution_count": 11,
   "id": "4f204b68",
   "metadata": {},
   "outputs": [
    {
     "data": {
      "text/html": [
       "<div>\n",
       "<style scoped>\n",
       "    .dataframe tbody tr th:only-of-type {\n",
       "        vertical-align: middle;\n",
       "    }\n",
       "\n",
       "    .dataframe tbody tr th {\n",
       "        vertical-align: top;\n",
       "    }\n",
       "\n",
       "    .dataframe thead th {\n",
       "        text-align: right;\n",
       "    }\n",
       "</style>\n",
       "<table border=\"1\" class=\"dataframe\">\n",
       "  <thead>\n",
       "    <tr style=\"text-align: right;\">\n",
       "      <th></th>\n",
       "      <th>UserID</th>\n",
       "      <th>MovieID</th>\n",
       "      <th>Rating</th>\n",
       "      <th>Timestamp</th>\n",
       "    </tr>\n",
       "  </thead>\n",
       "  <tbody>\n",
       "    <tr>\n",
       "      <th>0</th>\n",
       "      <td>1</td>\n",
       "      <td>1193</td>\n",
       "      <td>5</td>\n",
       "      <td>978300760</td>\n",
       "    </tr>\n",
       "    <tr>\n",
       "      <th>1</th>\n",
       "      <td>1</td>\n",
       "      <td>661</td>\n",
       "      <td>3</td>\n",
       "      <td>978302109</td>\n",
       "    </tr>\n",
       "    <tr>\n",
       "      <th>2</th>\n",
       "      <td>1</td>\n",
       "      <td>914</td>\n",
       "      <td>3</td>\n",
       "      <td>978301968</td>\n",
       "    </tr>\n",
       "    <tr>\n",
       "      <th>3</th>\n",
       "      <td>1</td>\n",
       "      <td>3408</td>\n",
       "      <td>4</td>\n",
       "      <td>978300275</td>\n",
       "    </tr>\n",
       "    <tr>\n",
       "      <th>4</th>\n",
       "      <td>1</td>\n",
       "      <td>2355</td>\n",
       "      <td>5</td>\n",
       "      <td>978824291</td>\n",
       "    </tr>\n",
       "  </tbody>\n",
       "</table>\n",
       "</div>"
      ],
      "text/plain": [
       "   UserID  MovieID  Rating  Timestamp\n",
       "0       1     1193       5  978300760\n",
       "1       1      661       3  978302109\n",
       "2       1      914       3  978301968\n",
       "3       1     3408       4  978300275\n",
       "4       1     2355       5  978824291"
      ]
     },
     "execution_count": 11,
     "metadata": {},
     "output_type": "execute_result"
    }
   ],
   "source": [
    "ratings.head()"
   ]
  },
  {
   "cell_type": "code",
   "execution_count": 10,
   "id": "1dd657da",
   "metadata": {},
   "outputs": [],
   "source": [
    "USERS_CNT = 6040"
   ]
  },
  {
   "cell_type": "code",
   "execution_count": 7,
   "id": "sitting-chosen",
   "metadata": {},
   "outputs": [],
   "source": [
    "train_ratings, test_ratings = train_test_split(ratings, test_size=0.1)"
   ]
  },
  {
   "cell_type": "code",
   "execution_count": 8,
   "id": "26849437",
   "metadata": {},
   "outputs": [],
   "source": [
    "def generate_sparse_matrix(dataset):\n",
    "    items_max_id = dataset.MovieID.max()\n",
    "\n",
    "    items = np.zeros(shape = (items_max_id, USERS_CNT), dtype = np.float32)\n",
    "\n",
    "    for index, row in dataset.iterrows():\n",
    "        items[int(row['MovieID'] - 1), int(row['UserID'] - 1)] = row['Rating']\n",
    "\n",
    "    return items"
   ]
  },
  {
   "cell_type": "code",
   "execution_count": 11,
   "id": "imperial-dressing",
   "metadata": {},
   "outputs": [],
   "source": [
    "train_sparse_matrix = generate_sparse_matrix(train_ratings)\n"
   ]
  },
  {
   "cell_type": "code",
   "execution_count": 12,
   "id": "clear-influence",
   "metadata": {},
   "outputs": [
    {
     "name": "stdout",
     "output_type": "stream",
     "text": [
      "(3952, 6040)\n"
     ]
    }
   ],
   "source": [
    "test_sparse_matrix = generate_sparse_matrix(test_ratings)\n",
    "print(test_sparse_matrix.shape)"
   ]
  },
  {
   "cell_type": "code",
   "execution_count": 13,
   "id": "suitable-sessions",
   "metadata": {},
   "outputs": [
    {
     "name": "stdout",
     "output_type": "stream",
     "text": [
      "Train Sparse Matrix:  (3952, 6040)\n",
      "Test Sparse Matrix:  (3952, 6040)\n"
     ]
    }
   ],
   "source": [
    "print(\"Train Sparse Matrix: \", train_sparse_matrix.shape)\n",
    "print(\"Test Sparse Matrix: \", test_sparse_matrix.shape)"
   ]
  },
  {
   "cell_type": "code",
   "execution_count": 14,
   "id": "60de34de",
   "metadata": {},
   "outputs": [
    {
     "data": {
      "text/plain": [
       "((900188, 4), (100021, 4))"
      ]
     },
     "execution_count": 14,
     "metadata": {},
     "output_type": "execute_result"
    }
   ],
   "source": [
    "train_ratings.shape, test_ratings.shape"
   ]
  },
  {
   "cell_type": "code",
   "execution_count": 15,
   "id": "b37eda5f",
   "metadata": {},
   "outputs": [],
   "source": [
    "from torch.utils.data import Dataset\n",
    "\n",
    "class RatingsDataset(Dataset):\n",
    "    \n",
    "    def __init__(self, ratings):\n",
    "        self.ratings = ratings.copy()\n",
    "        self.known_indices = self.get_known_indices()\n",
    "        self.normalize()\n",
    "        self.subtract_mean()\n",
    "        \n",
    "        self.masked_ratings, self.masked_indices = self.mask_ratings()\n",
    "        \n",
    "        \n",
    "    def __len__(self):\n",
    "        return len(self.ratings)\n",
    "    \n",
    "    def __getitem__(self, index):\n",
    "        \n",
    "        result = {\n",
    "            'inp': torch.from_numpy(np.array(self.masked_ratings[index])).float(), \n",
    "            'out': torch.from_numpy(np.array(self.ratings[index])).float(),\n",
    "            'known_indices': self.known_indices[index],\n",
    "            'masked_indices': self.masked_indices[index]\n",
    "        }\n",
    "        \n",
    "        return result\n",
    "        \n",
    "    \n",
    "    def get_known_indices(self):\n",
    "        known_indices = np.zeros(shape = self.ratings.shape)\n",
    "\n",
    "        for index, rating in enumerate(self.ratings):\n",
    "            known = np.where(rating > 0)[0].tolist()\n",
    "            known_indices[index][known] = 1\n",
    "            \n",
    "        return known_indices\n",
    "        \n",
    "    def mask_ratings(self):\n",
    "    \n",
    "        masked_ratings = self.ratings.copy()\n",
    "        masked_indices = np.zeros(shape = self.ratings.shape)\n",
    "                \n",
    "        for index, rating in enumerate(masked_ratings):\n",
    "            \n",
    "            known = np.where(self.known_indices[index] == 1)[0].tolist()\n",
    "            known_cnt = len(known)\n",
    "            masked_features_cnt = int(MASK_RATIO * known_cnt)\n",
    "            masked = random.sample(known, masked_features_cnt)\n",
    "            rating[masked] = 0\n",
    "                        \n",
    "            masked_indices[index][masked] = 1\n",
    "            \n",
    "            \n",
    "        return masked_ratings, masked_indices\n",
    "    \n",
    "    def normalize(self):\n",
    "        \n",
    "        for index, rating in enumerate(self.ratings):\n",
    "            known = np.where(self.known_indices[index] == 1)[0]\n",
    "            \n",
    "            if len(known) > 0:\n",
    "                rating[known] -= 3\n",
    "                rating[known] /= 2\n",
    "    \n",
    "    def subtract_mean(self):\n",
    "        \n",
    "        for index, rating in enumerate(self.ratings):\n",
    "            \n",
    "            known = np.where(self.known_indices[index] == 1)[0]\n",
    "            \n",
    "            if len(known) > 0:\n",
    "                mean = rating[known].mean()\n",
    "                rating[known] -= mean"
   ]
  },
  {
   "cell_type": "code",
   "execution_count": 16,
   "id": "49bdd0fe",
   "metadata": {},
   "outputs": [
    {
     "name": "stdout",
     "output_type": "stream",
     "text": [
      "Input:  tensor([ 0.0000,  0.0000,  0.0000,  ...,  0.0000,  0.0000, -0.5718]) Input Length:  6040\n",
      "Output:  tensor([ 0.4282,  0.0000,  0.0000,  ...,  0.0000,  0.0000, -0.5718]) Output Length:  6040\n",
      "Input:  tensor([0., 0., 0.,  ..., 0., 0., 0.]) Input Length:  6040\n",
      "Output:  tensor([0., 0., 0.,  ..., 0., 0., 0.]) Output Length:  6040\n"
     ]
    }
   ],
   "source": [
    "train_dataset = RatingsDataset(train_sparse_matrix)\n",
    "print(\"Input: \", train_dataset[0]['inp'], \"Input Length: \", len(train_dataset[0]['inp']))\n",
    "print(\"Output: \", train_dataset[0]['out'], \"Output Length: \", len(train_dataset[5]['out']))\n",
    "\n",
    "test_dataset = RatingsDataset(test_sparse_matrix)\n",
    "print(\"Input: \", test_dataset[0]['inp'], \"Input Length: \", len(test_dataset[5]['inp']))\n",
    "print(\"Output: \", test_dataset[0]['out'], \"Output Length: \", len(test_dataset[5]['out']))"
   ]
  },
  {
   "cell_type": "code",
   "execution_count": 17,
   "id": "d2e179e8",
   "metadata": {},
   "outputs": [
    {
     "name": "stdout",
     "output_type": "stream",
     "text": [
      "{'inp': tensor([0., 0., 0.,  ..., 0., 0., 0.]), 'out': tensor([0., 0., 0.,  ..., 0., 0., 0.]), 'known_indices': array([0., 0., 0., ..., 0., 0., 0.]), 'masked_indices': array([0., 0., 0., ..., 0., 0., 0.])}\n"
     ]
    }
   ],
   "source": [
    "print(train_dataset[2])"
   ]
  },
  {
   "cell_type": "markdown",
   "id": "processed-style",
   "metadata": {},
   "source": [
    "# Network"
   ]
  },
  {
   "cell_type": "code",
   "execution_count": 18,
   "id": "25373092",
   "metadata": {},
   "outputs": [],
   "source": [
    "ALPHA = 1\n",
    "BETA = 0.5"
   ]
  },
  {
   "cell_type": "code",
   "execution_count": 19,
   "id": "first-mozambique",
   "metadata": {},
   "outputs": [
    {
     "name": "stdout",
     "output_type": "stream",
     "text": [
      "Denoising_Model(\n",
      "  (encoder): Sequential(\n",
      "    (0): Linear(in_features=6040, out_features=770, bias=True)\n",
      "    (1): Tanh()\n",
      "  )\n",
      "  (decoder): Sequential(\n",
      "    (0): Linear(in_features=770, out_features=6040, bias=True)\n",
      "    (1): Tanh()\n",
      "  )\n",
      ")\n"
     ]
    }
   ],
   "source": [
    "import torch.nn as nn\n",
    "\n",
    "\n",
    "inputSize = 6040\n",
    "class Denoising_Model(nn.Module):\n",
    "    def __init__(self):\n",
    "        super(Denoising_Model,self).__init__()\n",
    "        self.encoder=nn.Sequential(\n",
    "                      nn.Linear(inputSize, 770),  # There are 6040 users in movieLens-1M\n",
    "                      nn.Tanh()\n",
    "                      )\n",
    "\n",
    "        self.decoder=nn.Sequential(\n",
    "                      nn.Linear(770, inputSize),\n",
    "                      nn.Tanh()\n",
    "                      )\n",
    "\n",
    "\n",
    "    def forward(self,x):\n",
    "        x=self.encoder(x)\n",
    "        x=self.decoder(x)\n",
    "        return x\n",
    "    \n",
    "network = Denoising_Model()\n",
    "print(network)"
   ]
  },
  {
   "cell_type": "code",
   "execution_count": 20,
   "id": "b4d39a7d",
   "metadata": {},
   "outputs": [],
   "source": [
    "def denosingLoss(output, target, known, masked):\n",
    "\n",
    "        loss = 0\n",
    "\n",
    "        for index, out in enumerate(output):\n",
    "            out = output[index]\n",
    "\n",
    "            known_indices = np.where(known[index] == 1)[0]\n",
    "            masked_indices = np.where(masked[index] == 1)[0]\n",
    "            known_masked_diff = list(set(known_indices) - set(masked_indices))        \n",
    "\n",
    "            masked_output = output[index][masked_indices]\n",
    "            masked_target = target[index][masked_indices]\n",
    "            known_masked_diff_output = output[index][known_masked_diff]\n",
    "            known_masked_diff_target = target[index][known_masked_diff]\n",
    "\n",
    "            if len(masked_output) > 0 and len(known_masked_diff_output) > 0:\n",
    "                loss += ALPHA * torch.sum(torch.square(torch.sub(masked_output, masked_target))) \\\n",
    "                        + BETA * torch.sum(torch.square(torch.sub(known_masked_diff_output, known_masked_diff_target)))\n",
    "\n",
    "        return loss / BATCH_SIZE"
   ]
  },
  {
   "cell_type": "code",
   "execution_count": 21,
   "id": "frozen-grove",
   "metadata": {},
   "outputs": [
    {
     "name": "stdout",
     "output_type": "stream",
     "text": [
      "3952\n"
     ]
    }
   ],
   "source": [
    "print(len(train_dataset))"
   ]
  },
  {
   "cell_type": "code",
   "execution_count": 22,
   "id": "230b9723",
   "metadata": {},
   "outputs": [],
   "source": [
    "def init_weights(m):\n",
    "    if type(m) == nn.Linear:\n",
    "        torch.nn.init.xavier_uniform_(m.weight)\n",
    "        m.bias.data.fill_(0)"
   ]
  },
  {
   "cell_type": "code",
   "execution_count": 23,
   "id": "familiar-berlin",
   "metadata": {},
   "outputs": [],
   "source": [
    "def train(model, masked_ratings, target, optimizer, criterion, known, masked):   \n",
    "#     masked_ratings,target=masked_ratings.to(device),target.to(device)\n",
    "    \n",
    "    # Forward Pass\n",
    "    output = model(masked_ratings)\n",
    "    loss = denosingLoss(output, target, known, masked)\n",
    "        \n",
    "    #Backward Pass---------------------\n",
    "    optimizer.zero_grad()\n",
    "    loss.backward()\n",
    "    optimizer.step()\n",
    "   # scheduler.step()\n",
    "\n",
    "    return loss, output\n"
   ]
  },
  {
   "cell_type": "code",
   "execution_count": 24,
   "id": "77d47c6d",
   "metadata": {},
   "outputs": [
    {
     "name": "stdout",
     "output_type": "stream",
     "text": [
      "Epoch 1 Loss : 0.8248584866523743\n",
      "Epoch 2 Loss : 0.6867635846138\n",
      "Epoch 3 Loss : 0.6472795009613037\n",
      "Epoch 4 Loss : 0.6294000148773193\n",
      "Epoch 5 Loss : 0.6098825335502625\n",
      "Epoch 6 Loss : 0.5980748534202576\n",
      "Epoch 7 Loss : 0.5899688601493835\n",
      "Epoch 8 Loss : 0.5837532877922058\n",
      "Epoch 9 Loss : 0.5784732103347778\n",
      "Epoch 10 Loss : 0.5743650197982788\n",
      "Epoch 11 Loss : 0.5706970691680908\n",
      "Epoch 12 Loss : 0.5676262378692627\n",
      "Epoch 13 Loss : 0.5658714771270752\n",
      "Epoch 14 Loss : 0.5627363920211792\n",
      "Epoch 15 Loss : 0.5616626143455505\n",
      "Epoch 16 Loss : 0.5594909191131592\n",
      "Epoch 17 Loss : 0.5623922348022461\n",
      "Epoch 18 Loss : 0.5585438013076782\n",
      "Epoch 19 Loss : 0.5576106309890747\n",
      "Epoch 20 Loss : 0.5572994947433472\n"
     ]
    }
   ],
   "source": [
    "from torch.optim import Adam\n",
    "from torch.optim import lr_scheduler\n",
    "from torch.utils.data import DataLoader\n",
    "from tqdm import tqdm\n",
    "from torch import optim\n",
    "from torch.utils.data import DataLoader\n",
    "\n",
    "# if torch.cuda.is_available() == True:\n",
    "#     device=\"cuda:0\"\n",
    "# else:\n",
    "device =\"cpu\"\n",
    "\n",
    "EPOCHS = 20\n",
    "BATCH_SIZE = 35\n",
    "\n",
    "train_loader = DataLoader(dataset = train_dataset, batch_size = BATCH_SIZE, shuffle = True)\n",
    "model = Denoising_Model().to(device)\n",
    "init_weights(model)\n",
    "criterion = nn.MSELoss()\n",
    "# optimizer=Adam(model.parameters(),lr=0.07,weight_decay=0.05)\n",
    "optimizer = optim.SGD(model.parameters(), lr = 0.07, weight_decay = 0.05)\n",
    "#exp_lr_scheduler = lr_scheduler.StepLR(optimizer, step_size = 1, gamma = 0.3)\n",
    "\n",
    "epoch_loss = 0\n",
    "epoch_loss = []\n",
    "\n",
    "for epoch in range(EPOCHS): \n",
    "    acc_epoch_loss = 0\n",
    "    \n",
    "    for bidx, batch in enumerate(train_loader):\n",
    "        \n",
    "        x_train = batch['inp']\n",
    "        y_train = batch['out']\n",
    "        known = batch['known_indices']\n",
    "        masked = batch['masked_indices']\n",
    "        \n",
    "        loss, predictions = train(model, x_train, y_train, optimizer, criterion, known, masked)\n",
    "        acc_epoch_loss += loss\n",
    "    \n",
    "    epoch_loss.append(acc_epoch_loss / len(train_dataset))        \n",
    "    print('Epoch {} Loss : {}'.format((epoch+1), epoch_loss[epoch] ))\n",
    "    \n"
   ]
  },
  {
   "cell_type": "code",
   "execution_count": 33,
   "id": "807f8296",
   "metadata": {},
   "outputs": [
    {
     "name": "stdout",
     "output_type": "stream",
     "text": [
      "(tensor([[ 0.0000,  0.0000,  0.0000,  ...,  0.0000,  0.0000, -0.5718],\n",
      "        [ 0.0000,  0.0000,  0.0000,  ...,  0.0000,  0.0000,  0.0000],\n",
      "        [ 0.0000,  0.0000,  0.0000,  ...,  0.0000,  0.0000,  0.0000],\n",
      "        ...,\n",
      "        [ 0.0000,  0.0000,  0.0000,  ...,  0.0000,  0.0000,  0.0000],\n",
      "        [ 0.0000,  0.0000,  0.0000,  ...,  0.0000,  0.0000,  0.0000],\n",
      "        [ 0.0000,  0.0000,  0.0000,  ...,  0.0000,  0.0000,  0.0000]]), tensor([[0., 0., 0.,  ..., 0., 0., 0.],\n",
      "        [0., 0., 0.,  ..., 0., 0., 0.],\n",
      "        [0., 0., 0.,  ..., 0., 0., 0.],\n",
      "        ...,\n",
      "        [0., 0., 0.,  ..., 0., 0., 0.],\n",
      "        [0., 0., 0.,  ..., 0., 0., 0.],\n",
      "        [0., 0., 0.,  ..., 0., 0., 0.]]), tensor([[0., 0., 0.,  ..., 0., 0., 0.],\n",
      "        [0., 0., 0.,  ..., 0., 0., 0.],\n",
      "        [0., 0., 0.,  ..., 0., 0., 0.],\n",
      "        ...,\n",
      "        [0., 0., 0.,  ..., 0., 0., 0.],\n",
      "        [0., 0., 0.,  ..., 0., 0., 0.],\n",
      "        [0., 0., 0.,  ..., 0., 0., 0.]], dtype=torch.float64))\n"
     ]
    }
   ],
   "source": [
    "test_batch = []\n",
    "train_batch = []\n",
    "known_batch = []\n",
    "all_ratings_cnt = 0\n",
    "batch_size = 12\n",
    "minibatches = []\n",
    "\n",
    "for idx, test in enumerate(test_dataset):\n",
    "    known_ratings_cnt = len(np.where(test['known_indices'] == 1)[0])\n",
    "    \n",
    "    if known_ratings_cnt > 0:\n",
    "        \n",
    "        \n",
    "        all_ratings_cnt += known_ratings_cnt\n",
    "        train_batch.append(train_dataset[idx]['inp'])\n",
    "        known_batch.append(torch.tensor(test['known_indices']))\n",
    "        test_batch.append(test['inp'])\n",
    "        \n",
    "    if len(test_batch) >= batch_size:\n",
    "        minibatches.append((torch.stack(train_batch), torch.stack(test_batch), torch.stack(known_batch)))\n",
    "        test_batch.clear()\n",
    "        train_batch.clear()\n",
    "        known_batch.clear()\n",
    "        \n",
    "print(minibatches[0])\n",
    "       "
   ]
  },
  {
   "cell_type": "code",
   "execution_count": 32,
   "id": "sized-hungary",
   "metadata": {},
   "outputs": [
    {
     "name": "stdout",
     "output_type": "stream",
     "text": [
      "100021\n",
      "0.7592135976054041\n"
     ]
    }
   ],
   "source": [
    "from sklearn.metrics import mean_squared_error\n",
    "from math import sqrt\n",
    "\n",
    "from torch.nn import MSELoss\n",
    "\n",
    "\n",
    "def test():\n",
    "    criterion = nn.MSELoss()\n",
    "    noRatings = 0\n",
    "    input, target, minibatch = {}, {}, {}\n",
    "\n",
    "    \n",
    "    mse = 0        \n",
    "    with torch.no_grad():\n",
    "        for bidx, batch in enumerate(minibatches):\n",
    "                train_batch = batch[0]\n",
    "                test_batch = batch[1]\n",
    "                known_batch = batch[2]\n",
    "                y_predictions = model(train_batch)\n",
    "\n",
    "                for idx, test in enumerate(test_batch):\n",
    "                    y_true = test[np.where(known_batch[idx].numpy() == 1)[0]]\n",
    "                    y_pred = y_predictions[idx][np.where(known_batch[idx].numpy() == 1)[0]]\n",
    "                    \n",
    "                   # print(torch.sum((y_pred - y_true)**2))\n",
    "                    #print(torch.sum(y_pred - y_true)**2)\n",
    "                    mse += torch.sum((y_pred - y_true)**2)\n",
    "\n",
    "    print(all_ratings_cnt)  \n",
    "    mse = mse / all_ratings_cnt\n",
    "    rmse = sqrt(mse)\n",
    "    print(rmse  * 2)\n",
    "    \n",
    "test()\n"
   ]
  },
  {
   "cell_type": "code",
   "execution_count": null,
   "id": "seventh-poetry",
   "metadata": {},
   "outputs": [],
   "source": []
  }
 ],
 "metadata": {
  "kernelspec": {
   "display_name": "Python 3",
   "language": "python",
   "name": "python3"
  },
  "language_info": {
   "codemirror_mode": {
    "name": "ipython",
    "version": 3
   },
   "file_extension": ".py",
   "mimetype": "text/x-python",
   "name": "python",
   "nbconvert_exporter": "python",
   "pygments_lexer": "ipython3",
   "version": "3.8.0"
  }
 },
 "nbformat": 4,
 "nbformat_minor": 5
}
